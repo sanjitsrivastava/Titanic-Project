{
 "cells": [
  {
   "cell_type": "code",
   "execution_count": 436,
   "id": "6bf2266f",
   "metadata": {},
   "outputs": [],
   "source": [
    "import pandas as pd\n",
    "import numpy as np\n",
    "import matplotlib.pyplot as plt\n",
    "import seaborn as sns\n",
    "import warnings\n",
    "warnings.filterwarnings(\"ignore\")\n",
    "import sklearn\n",
    "from sklearn.metrics import mean_squared_error,mean_absolute_error\n",
    "from sklearn.model_selection import train_test_split\n",
    "from numpy import int64"
   ]
  },
  {
   "cell_type": "code",
   "execution_count": 437,
   "id": "a2a62f7c",
   "metadata": {},
   "outputs": [
    {
     "data": {
      "text/html": [
       "<div>\n",
       "<style scoped>\n",
       "    .dataframe tbody tr th:only-of-type {\n",
       "        vertical-align: middle;\n",
       "    }\n",
       "\n",
       "    .dataframe tbody tr th {\n",
       "        vertical-align: top;\n",
       "    }\n",
       "\n",
       "    .dataframe thead th {\n",
       "        text-align: right;\n",
       "    }\n",
       "</style>\n",
       "<table border=\"1\" class=\"dataframe\">\n",
       "  <thead>\n",
       "    <tr style=\"text-align: right;\">\n",
       "      <th></th>\n",
       "      <th>Unnamed: 0</th>\n",
       "      <th>PassengerId</th>\n",
       "      <th>Survived</th>\n",
       "      <th>Pclass</th>\n",
       "      <th>Name</th>\n",
       "      <th>Sex</th>\n",
       "      <th>Age</th>\n",
       "      <th>SibSp</th>\n",
       "      <th>Parch</th>\n",
       "      <th>Ticket</th>\n",
       "      <th>Fare</th>\n",
       "      <th>Cabin</th>\n",
       "      <th>Embarked</th>\n",
       "    </tr>\n",
       "  </thead>\n",
       "  <tbody>\n",
       "    <tr>\n",
       "      <th>0</th>\n",
       "      <td>0</td>\n",
       "      <td>1</td>\n",
       "      <td>0</td>\n",
       "      <td>3</td>\n",
       "      <td>Braund, Mr. Owen Harris</td>\n",
       "      <td>male</td>\n",
       "      <td>22.0</td>\n",
       "      <td>1</td>\n",
       "      <td>0</td>\n",
       "      <td>A/5 21171</td>\n",
       "      <td>7.2500</td>\n",
       "      <td>NaN</td>\n",
       "      <td>S</td>\n",
       "    </tr>\n",
       "    <tr>\n",
       "      <th>1</th>\n",
       "      <td>1</td>\n",
       "      <td>2</td>\n",
       "      <td>1</td>\n",
       "      <td>1</td>\n",
       "      <td>Cumings, Mrs. John Bradley (Florence Briggs Th...</td>\n",
       "      <td>female</td>\n",
       "      <td>38.0</td>\n",
       "      <td>1</td>\n",
       "      <td>0</td>\n",
       "      <td>PC 17599</td>\n",
       "      <td>71.2833</td>\n",
       "      <td>C85</td>\n",
       "      <td>C</td>\n",
       "    </tr>\n",
       "    <tr>\n",
       "      <th>2</th>\n",
       "      <td>2</td>\n",
       "      <td>3</td>\n",
       "      <td>1</td>\n",
       "      <td>3</td>\n",
       "      <td>Heikkinen, Miss. Laina</td>\n",
       "      <td>female</td>\n",
       "      <td>26.0</td>\n",
       "      <td>0</td>\n",
       "      <td>0</td>\n",
       "      <td>STON/O2. 3101282</td>\n",
       "      <td>7.9250</td>\n",
       "      <td>NaN</td>\n",
       "      <td>S</td>\n",
       "    </tr>\n",
       "    <tr>\n",
       "      <th>3</th>\n",
       "      <td>3</td>\n",
       "      <td>4</td>\n",
       "      <td>1</td>\n",
       "      <td>1</td>\n",
       "      <td>Futrelle, Mrs. Jacques Heath (Lily May Peel)</td>\n",
       "      <td>female</td>\n",
       "      <td>35.0</td>\n",
       "      <td>1</td>\n",
       "      <td>0</td>\n",
       "      <td>113803</td>\n",
       "      <td>53.1000</td>\n",
       "      <td>C123</td>\n",
       "      <td>S</td>\n",
       "    </tr>\n",
       "    <tr>\n",
       "      <th>4</th>\n",
       "      <td>4</td>\n",
       "      <td>5</td>\n",
       "      <td>0</td>\n",
       "      <td>3</td>\n",
       "      <td>Allen, Mr. William Henry</td>\n",
       "      <td>male</td>\n",
       "      <td>35.0</td>\n",
       "      <td>0</td>\n",
       "      <td>0</td>\n",
       "      <td>373450</td>\n",
       "      <td>8.0500</td>\n",
       "      <td>NaN</td>\n",
       "      <td>S</td>\n",
       "    </tr>\n",
       "    <tr>\n",
       "      <th>...</th>\n",
       "      <td>...</td>\n",
       "      <td>...</td>\n",
       "      <td>...</td>\n",
       "      <td>...</td>\n",
       "      <td>...</td>\n",
       "      <td>...</td>\n",
       "      <td>...</td>\n",
       "      <td>...</td>\n",
       "      <td>...</td>\n",
       "      <td>...</td>\n",
       "      <td>...</td>\n",
       "      <td>...</td>\n",
       "      <td>...</td>\n",
       "    </tr>\n",
       "    <tr>\n",
       "      <th>886</th>\n",
       "      <td>886</td>\n",
       "      <td>887</td>\n",
       "      <td>0</td>\n",
       "      <td>2</td>\n",
       "      <td>Montvila, Rev. Juozas</td>\n",
       "      <td>male</td>\n",
       "      <td>27.0</td>\n",
       "      <td>0</td>\n",
       "      <td>0</td>\n",
       "      <td>211536</td>\n",
       "      <td>13.0000</td>\n",
       "      <td>NaN</td>\n",
       "      <td>S</td>\n",
       "    </tr>\n",
       "    <tr>\n",
       "      <th>887</th>\n",
       "      <td>887</td>\n",
       "      <td>888</td>\n",
       "      <td>1</td>\n",
       "      <td>1</td>\n",
       "      <td>Graham, Miss. Margaret Edith</td>\n",
       "      <td>female</td>\n",
       "      <td>19.0</td>\n",
       "      <td>0</td>\n",
       "      <td>0</td>\n",
       "      <td>112053</td>\n",
       "      <td>30.0000</td>\n",
       "      <td>B42</td>\n",
       "      <td>S</td>\n",
       "    </tr>\n",
       "    <tr>\n",
       "      <th>888</th>\n",
       "      <td>888</td>\n",
       "      <td>889</td>\n",
       "      <td>0</td>\n",
       "      <td>3</td>\n",
       "      <td>Johnston, Miss. Catherine Helen \"Carrie\"</td>\n",
       "      <td>female</td>\n",
       "      <td>NaN</td>\n",
       "      <td>1</td>\n",
       "      <td>2</td>\n",
       "      <td>W./C. 6607</td>\n",
       "      <td>23.4500</td>\n",
       "      <td>NaN</td>\n",
       "      <td>S</td>\n",
       "    </tr>\n",
       "    <tr>\n",
       "      <th>889</th>\n",
       "      <td>889</td>\n",
       "      <td>890</td>\n",
       "      <td>1</td>\n",
       "      <td>1</td>\n",
       "      <td>Behr, Mr. Karl Howell</td>\n",
       "      <td>male</td>\n",
       "      <td>26.0</td>\n",
       "      <td>0</td>\n",
       "      <td>0</td>\n",
       "      <td>111369</td>\n",
       "      <td>30.0000</td>\n",
       "      <td>C148</td>\n",
       "      <td>C</td>\n",
       "    </tr>\n",
       "    <tr>\n",
       "      <th>890</th>\n",
       "      <td>890</td>\n",
       "      <td>891</td>\n",
       "      <td>0</td>\n",
       "      <td>3</td>\n",
       "      <td>Dooley, Mr. Patrick</td>\n",
       "      <td>male</td>\n",
       "      <td>32.0</td>\n",
       "      <td>0</td>\n",
       "      <td>0</td>\n",
       "      <td>370376</td>\n",
       "      <td>7.7500</td>\n",
       "      <td>NaN</td>\n",
       "      <td>Q</td>\n",
       "    </tr>\n",
       "  </tbody>\n",
       "</table>\n",
       "<p>891 rows × 13 columns</p>\n",
       "</div>"
      ],
      "text/plain": [
       "     Unnamed: 0  PassengerId  Survived  Pclass  \\\n",
       "0             0            1         0       3   \n",
       "1             1            2         1       1   \n",
       "2             2            3         1       3   \n",
       "3             3            4         1       1   \n",
       "4             4            5         0       3   \n",
       "..          ...          ...       ...     ...   \n",
       "886         886          887         0       2   \n",
       "887         887          888         1       1   \n",
       "888         888          889         0       3   \n",
       "889         889          890         1       1   \n",
       "890         890          891         0       3   \n",
       "\n",
       "                                                  Name     Sex   Age  SibSp  \\\n",
       "0                              Braund, Mr. Owen Harris    male  22.0      1   \n",
       "1    Cumings, Mrs. John Bradley (Florence Briggs Th...  female  38.0      1   \n",
       "2                               Heikkinen, Miss. Laina  female  26.0      0   \n",
       "3         Futrelle, Mrs. Jacques Heath (Lily May Peel)  female  35.0      1   \n",
       "4                             Allen, Mr. William Henry    male  35.0      0   \n",
       "..                                                 ...     ...   ...    ...   \n",
       "886                              Montvila, Rev. Juozas    male  27.0      0   \n",
       "887                       Graham, Miss. Margaret Edith  female  19.0      0   \n",
       "888           Johnston, Miss. Catherine Helen \"Carrie\"  female   NaN      1   \n",
       "889                              Behr, Mr. Karl Howell    male  26.0      0   \n",
       "890                                Dooley, Mr. Patrick    male  32.0      0   \n",
       "\n",
       "     Parch            Ticket     Fare Cabin Embarked  \n",
       "0        0         A/5 21171   7.2500   NaN        S  \n",
       "1        0          PC 17599  71.2833   C85        C  \n",
       "2        0  STON/O2. 3101282   7.9250   NaN        S  \n",
       "3        0            113803  53.1000  C123        S  \n",
       "4        0            373450   8.0500   NaN        S  \n",
       "..     ...               ...      ...   ...      ...  \n",
       "886      0            211536  13.0000   NaN        S  \n",
       "887      0            112053  30.0000   B42        S  \n",
       "888      2        W./C. 6607  23.4500   NaN        S  \n",
       "889      0            111369  30.0000  C148        C  \n",
       "890      0            370376   7.7500   NaN        Q  \n",
       "\n",
       "[891 rows x 13 columns]"
      ]
     },
     "execution_count": 437,
     "metadata": {},
     "output_type": "execute_result"
    }
   ],
   "source": [
    "report=pd.read_csv(r\"https://raw.githubusercontent.com/training-ml/Files/main/titanic_train.csv\")\n",
    "report"
   ]
  },
  {
   "cell_type": "code",
   "execution_count": 438,
   "id": "b1821079",
   "metadata": {},
   "outputs": [
    {
     "data": {
      "text/plain": [
       "Index(['Unnamed: 0', 'PassengerId', 'Survived', 'Pclass', 'Name', 'Sex', 'Age',\n",
       "       'SibSp', 'Parch', 'Ticket', 'Fare', 'Cabin', 'Embarked'],\n",
       "      dtype='object')"
      ]
     },
     "execution_count": 438,
     "metadata": {},
     "output_type": "execute_result"
    }
   ],
   "source": [
    "report.columns"
   ]
  },
  {
   "cell_type": "code",
   "execution_count": 439,
   "id": "3211f365",
   "metadata": {},
   "outputs": [
    {
     "data": {
      "text/plain": [
       "Unnamed: 0       int64\n",
       "PassengerId      int64\n",
       "Survived         int64\n",
       "Pclass           int64\n",
       "Name            object\n",
       "Sex             object\n",
       "Age            float64\n",
       "SibSp            int64\n",
       "Parch            int64\n",
       "Ticket          object\n",
       "Fare           float64\n",
       "Cabin           object\n",
       "Embarked        object\n",
       "dtype: object"
      ]
     },
     "execution_count": 439,
     "metadata": {},
     "output_type": "execute_result"
    }
   ],
   "source": [
    "report.dtypes"
   ]
  },
  {
   "cell_type": "code",
   "execution_count": 440,
   "id": "c4488654",
   "metadata": {},
   "outputs": [
    {
     "name": "stdout",
     "output_type": "stream",
     "text": [
      "<class 'pandas.core.frame.DataFrame'>\n",
      "RangeIndex: 891 entries, 0 to 890\n",
      "Data columns (total 13 columns):\n",
      " #   Column       Non-Null Count  Dtype  \n",
      "---  ------       --------------  -----  \n",
      " 0   Unnamed: 0   891 non-null    int64  \n",
      " 1   PassengerId  891 non-null    int64  \n",
      " 2   Survived     891 non-null    int64  \n",
      " 3   Pclass       891 non-null    int64  \n",
      " 4   Name         891 non-null    object \n",
      " 5   Sex          891 non-null    object \n",
      " 6   Age          714 non-null    float64\n",
      " 7   SibSp        891 non-null    int64  \n",
      " 8   Parch        891 non-null    int64  \n",
      " 9   Ticket       891 non-null    object \n",
      " 10  Fare         891 non-null    float64\n",
      " 11  Cabin        204 non-null    object \n",
      " 12  Embarked     889 non-null    object \n",
      "dtypes: float64(2), int64(6), object(5)\n",
      "memory usage: 90.6+ KB\n"
     ]
    }
   ],
   "source": [
    "report.info()"
   ]
  },
  {
   "cell_type": "code",
   "execution_count": 441,
   "id": "0f646bae",
   "metadata": {},
   "outputs": [
    {
     "data": {
      "text/html": [
       "<div>\n",
       "<style scoped>\n",
       "    .dataframe tbody tr th:only-of-type {\n",
       "        vertical-align: middle;\n",
       "    }\n",
       "\n",
       "    .dataframe tbody tr th {\n",
       "        vertical-align: top;\n",
       "    }\n",
       "\n",
       "    .dataframe thead th {\n",
       "        text-align: right;\n",
       "    }\n",
       "</style>\n",
       "<table border=\"1\" class=\"dataframe\">\n",
       "  <thead>\n",
       "    <tr style=\"text-align: right;\">\n",
       "      <th></th>\n",
       "      <th>Unnamed: 0</th>\n",
       "      <th>PassengerId</th>\n",
       "      <th>Survived</th>\n",
       "      <th>Pclass</th>\n",
       "      <th>Name</th>\n",
       "      <th>Sex</th>\n",
       "      <th>Age</th>\n",
       "      <th>SibSp</th>\n",
       "      <th>Parch</th>\n",
       "      <th>Ticket</th>\n",
       "      <th>Fare</th>\n",
       "      <th>Cabin</th>\n",
       "      <th>Embarked</th>\n",
       "    </tr>\n",
       "  </thead>\n",
       "  <tbody>\n",
       "    <tr>\n",
       "      <th>0</th>\n",
       "      <td>False</td>\n",
       "      <td>False</td>\n",
       "      <td>False</td>\n",
       "      <td>False</td>\n",
       "      <td>False</td>\n",
       "      <td>False</td>\n",
       "      <td>False</td>\n",
       "      <td>False</td>\n",
       "      <td>False</td>\n",
       "      <td>False</td>\n",
       "      <td>False</td>\n",
       "      <td>True</td>\n",
       "      <td>False</td>\n",
       "    </tr>\n",
       "    <tr>\n",
       "      <th>1</th>\n",
       "      <td>False</td>\n",
       "      <td>False</td>\n",
       "      <td>False</td>\n",
       "      <td>False</td>\n",
       "      <td>False</td>\n",
       "      <td>False</td>\n",
       "      <td>False</td>\n",
       "      <td>False</td>\n",
       "      <td>False</td>\n",
       "      <td>False</td>\n",
       "      <td>False</td>\n",
       "      <td>False</td>\n",
       "      <td>False</td>\n",
       "    </tr>\n",
       "    <tr>\n",
       "      <th>2</th>\n",
       "      <td>False</td>\n",
       "      <td>False</td>\n",
       "      <td>False</td>\n",
       "      <td>False</td>\n",
       "      <td>False</td>\n",
       "      <td>False</td>\n",
       "      <td>False</td>\n",
       "      <td>False</td>\n",
       "      <td>False</td>\n",
       "      <td>False</td>\n",
       "      <td>False</td>\n",
       "      <td>True</td>\n",
       "      <td>False</td>\n",
       "    </tr>\n",
       "    <tr>\n",
       "      <th>3</th>\n",
       "      <td>False</td>\n",
       "      <td>False</td>\n",
       "      <td>False</td>\n",
       "      <td>False</td>\n",
       "      <td>False</td>\n",
       "      <td>False</td>\n",
       "      <td>False</td>\n",
       "      <td>False</td>\n",
       "      <td>False</td>\n",
       "      <td>False</td>\n",
       "      <td>False</td>\n",
       "      <td>False</td>\n",
       "      <td>False</td>\n",
       "    </tr>\n",
       "    <tr>\n",
       "      <th>4</th>\n",
       "      <td>False</td>\n",
       "      <td>False</td>\n",
       "      <td>False</td>\n",
       "      <td>False</td>\n",
       "      <td>False</td>\n",
       "      <td>False</td>\n",
       "      <td>False</td>\n",
       "      <td>False</td>\n",
       "      <td>False</td>\n",
       "      <td>False</td>\n",
       "      <td>False</td>\n",
       "      <td>True</td>\n",
       "      <td>False</td>\n",
       "    </tr>\n",
       "    <tr>\n",
       "      <th>...</th>\n",
       "      <td>...</td>\n",
       "      <td>...</td>\n",
       "      <td>...</td>\n",
       "      <td>...</td>\n",
       "      <td>...</td>\n",
       "      <td>...</td>\n",
       "      <td>...</td>\n",
       "      <td>...</td>\n",
       "      <td>...</td>\n",
       "      <td>...</td>\n",
       "      <td>...</td>\n",
       "      <td>...</td>\n",
       "      <td>...</td>\n",
       "    </tr>\n",
       "    <tr>\n",
       "      <th>886</th>\n",
       "      <td>False</td>\n",
       "      <td>False</td>\n",
       "      <td>False</td>\n",
       "      <td>False</td>\n",
       "      <td>False</td>\n",
       "      <td>False</td>\n",
       "      <td>False</td>\n",
       "      <td>False</td>\n",
       "      <td>False</td>\n",
       "      <td>False</td>\n",
       "      <td>False</td>\n",
       "      <td>True</td>\n",
       "      <td>False</td>\n",
       "    </tr>\n",
       "    <tr>\n",
       "      <th>887</th>\n",
       "      <td>False</td>\n",
       "      <td>False</td>\n",
       "      <td>False</td>\n",
       "      <td>False</td>\n",
       "      <td>False</td>\n",
       "      <td>False</td>\n",
       "      <td>False</td>\n",
       "      <td>False</td>\n",
       "      <td>False</td>\n",
       "      <td>False</td>\n",
       "      <td>False</td>\n",
       "      <td>False</td>\n",
       "      <td>False</td>\n",
       "    </tr>\n",
       "    <tr>\n",
       "      <th>888</th>\n",
       "      <td>False</td>\n",
       "      <td>False</td>\n",
       "      <td>False</td>\n",
       "      <td>False</td>\n",
       "      <td>False</td>\n",
       "      <td>False</td>\n",
       "      <td>True</td>\n",
       "      <td>False</td>\n",
       "      <td>False</td>\n",
       "      <td>False</td>\n",
       "      <td>False</td>\n",
       "      <td>True</td>\n",
       "      <td>False</td>\n",
       "    </tr>\n",
       "    <tr>\n",
       "      <th>889</th>\n",
       "      <td>False</td>\n",
       "      <td>False</td>\n",
       "      <td>False</td>\n",
       "      <td>False</td>\n",
       "      <td>False</td>\n",
       "      <td>False</td>\n",
       "      <td>False</td>\n",
       "      <td>False</td>\n",
       "      <td>False</td>\n",
       "      <td>False</td>\n",
       "      <td>False</td>\n",
       "      <td>False</td>\n",
       "      <td>False</td>\n",
       "    </tr>\n",
       "    <tr>\n",
       "      <th>890</th>\n",
       "      <td>False</td>\n",
       "      <td>False</td>\n",
       "      <td>False</td>\n",
       "      <td>False</td>\n",
       "      <td>False</td>\n",
       "      <td>False</td>\n",
       "      <td>False</td>\n",
       "      <td>False</td>\n",
       "      <td>False</td>\n",
       "      <td>False</td>\n",
       "      <td>False</td>\n",
       "      <td>True</td>\n",
       "      <td>False</td>\n",
       "    </tr>\n",
       "  </tbody>\n",
       "</table>\n",
       "<p>891 rows × 13 columns</p>\n",
       "</div>"
      ],
      "text/plain": [
       "     Unnamed: 0  PassengerId  Survived  Pclass   Name    Sex    Age  SibSp  \\\n",
       "0         False        False     False   False  False  False  False  False   \n",
       "1         False        False     False   False  False  False  False  False   \n",
       "2         False        False     False   False  False  False  False  False   \n",
       "3         False        False     False   False  False  False  False  False   \n",
       "4         False        False     False   False  False  False  False  False   \n",
       "..          ...          ...       ...     ...    ...    ...    ...    ...   \n",
       "886       False        False     False   False  False  False  False  False   \n",
       "887       False        False     False   False  False  False  False  False   \n",
       "888       False        False     False   False  False  False   True  False   \n",
       "889       False        False     False   False  False  False  False  False   \n",
       "890       False        False     False   False  False  False  False  False   \n",
       "\n",
       "     Parch  Ticket   Fare  Cabin  Embarked  \n",
       "0    False   False  False   True     False  \n",
       "1    False   False  False  False     False  \n",
       "2    False   False  False   True     False  \n",
       "3    False   False  False  False     False  \n",
       "4    False   False  False   True     False  \n",
       "..     ...     ...    ...    ...       ...  \n",
       "886  False   False  False   True     False  \n",
       "887  False   False  False  False     False  \n",
       "888  False   False  False   True     False  \n",
       "889  False   False  False  False     False  \n",
       "890  False   False  False   True     False  \n",
       "\n",
       "[891 rows x 13 columns]"
      ]
     },
     "execution_count": 441,
     "metadata": {},
     "output_type": "execute_result"
    }
   ],
   "source": [
    "report.isnull()"
   ]
  },
  {
   "cell_type": "code",
   "execution_count": 442,
   "id": "8228c1fa",
   "metadata": {
    "scrolled": true
   },
   "outputs": [
    {
     "data": {
      "text/plain": [
       "<AxesSubplot:>"
      ]
     },
     "execution_count": 442,
     "metadata": {},
     "output_type": "execute_result"
    },
    {
     "data": {
      "image/png": "[encoded data removed]",
      "text/plain": [
       "<Figure size 432x288 with 1 Axes>"
      ]
     },
     "metadata": {
      "needs_background": "light"
     },
     "output_type": "display_data"
    }
   ],
   "source": [
    "sns.heatmap(report.isnull(),yticklabels=False, cbar=False, cmap='viridis')"
   ]
  },
  {
   "cell_type": "code",
   "execution_count": 443,
   "id": "1c7fc782",
   "metadata": {
    "scrolled": true
   },
   "outputs": [],
   "source": [
    "report.drop(['Age','Cabin'],axis=1,inplace=True)"
   ]
  },
  {
   "cell_type": "code",
   "execution_count": 444,
   "id": "293058ef",
   "metadata": {},
   "outputs": [
    {
     "data": {
      "text/html": [
       "<div>\n",
       "<style scoped>\n",
       "    .dataframe tbody tr th:only-of-type {\n",
       "        vertical-align: middle;\n",
       "    }\n",
       "\n",
       "    .dataframe tbody tr th {\n",
       "        vertical-align: top;\n",
       "    }\n",
       "\n",
       "    .dataframe thead th {\n",
       "        text-align: right;\n",
       "    }\n",
       "</style>\n",
       "<table border=\"1\" class=\"dataframe\">\n",
       "  <thead>\n",
       "    <tr style=\"text-align: right;\">\n",
       "      <th></th>\n",
       "      <th>Unnamed: 0</th>\n",
       "      <th>PassengerId</th>\n",
       "      <th>Survived</th>\n",
       "      <th>Pclass</th>\n",
       "      <th>Name</th>\n",
       "      <th>Sex</th>\n",
       "      <th>SibSp</th>\n",
       "      <th>Parch</th>\n",
       "      <th>Ticket</th>\n",
       "      <th>Fare</th>\n",
       "      <th>Embarked</th>\n",
       "    </tr>\n",
       "  </thead>\n",
       "  <tbody>\n",
       "    <tr>\n",
       "      <th>0</th>\n",
       "      <td>0</td>\n",
       "      <td>1</td>\n",
       "      <td>0</td>\n",
       "      <td>3</td>\n",
       "      <td>Braund, Mr. Owen Harris</td>\n",
       "      <td>male</td>\n",
       "      <td>1</td>\n",
       "      <td>0</td>\n",
       "      <td>A/5 21171</td>\n",
       "      <td>7.2500</td>\n",
       "      <td>S</td>\n",
       "    </tr>\n",
       "    <tr>\n",
       "      <th>1</th>\n",
       "      <td>1</td>\n",
       "      <td>2</td>\n",
       "      <td>1</td>\n",
       "      <td>1</td>\n",
       "      <td>Cumings, Mrs. John Bradley (Florence Briggs Th...</td>\n",
       "      <td>female</td>\n",
       "      <td>1</td>\n",
       "      <td>0</td>\n",
       "      <td>PC 17599</td>\n",
       "      <td>71.2833</td>\n",
       "      <td>C</td>\n",
       "    </tr>\n",
       "    <tr>\n",
       "      <th>2</th>\n",
       "      <td>2</td>\n",
       "      <td>3</td>\n",
       "      <td>1</td>\n",
       "      <td>3</td>\n",
       "      <td>Heikkinen, Miss. Laina</td>\n",
       "      <td>female</td>\n",
       "      <td>0</td>\n",
       "      <td>0</td>\n",
       "      <td>STON/O2. 3101282</td>\n",
       "      <td>7.9250</td>\n",
       "      <td>S</td>\n",
       "    </tr>\n",
       "    <tr>\n",
       "      <th>3</th>\n",
       "      <td>3</td>\n",
       "      <td>4</td>\n",
       "      <td>1</td>\n",
       "      <td>1</td>\n",
       "      <td>Futrelle, Mrs. Jacques Heath (Lily May Peel)</td>\n",
       "      <td>female</td>\n",
       "      <td>1</td>\n",
       "      <td>0</td>\n",
       "      <td>113803</td>\n",
       "      <td>53.1000</td>\n",
       "      <td>S</td>\n",
       "    </tr>\n",
       "    <tr>\n",
       "      <th>4</th>\n",
       "      <td>4</td>\n",
       "      <td>5</td>\n",
       "      <td>0</td>\n",
       "      <td>3</td>\n",
       "      <td>Allen, Mr. William Henry</td>\n",
       "      <td>male</td>\n",
       "      <td>0</td>\n",
       "      <td>0</td>\n",
       "      <td>373450</td>\n",
       "      <td>8.0500</td>\n",
       "      <td>S</td>\n",
       "    </tr>\n",
       "    <tr>\n",
       "      <th>...</th>\n",
       "      <td>...</td>\n",
       "      <td>...</td>\n",
       "      <td>...</td>\n",
       "      <td>...</td>\n",
       "      <td>...</td>\n",
       "      <td>...</td>\n",
       "      <td>...</td>\n",
       "      <td>...</td>\n",
       "      <td>...</td>\n",
       "      <td>...</td>\n",
       "      <td>...</td>\n",
       "    </tr>\n",
       "    <tr>\n",
       "      <th>886</th>\n",
       "      <td>886</td>\n",
       "      <td>887</td>\n",
       "      <td>0</td>\n",
       "      <td>2</td>\n",
       "      <td>Montvila, Rev. Juozas</td>\n",
       "      <td>male</td>\n",
       "      <td>0</td>\n",
       "      <td>0</td>\n",
       "      <td>211536</td>\n",
       "      <td>13.0000</td>\n",
       "      <td>S</td>\n",
       "    </tr>\n",
       "    <tr>\n",
       "      <th>887</th>\n",
       "      <td>887</td>\n",
       "      <td>888</td>\n",
       "      <td>1</td>\n",
       "      <td>1</td>\n",
       "      <td>Graham, Miss. Margaret Edith</td>\n",
       "      <td>female</td>\n",
       "      <td>0</td>\n",
       "      <td>0</td>\n",
       "      <td>112053</td>\n",
       "      <td>30.0000</td>\n",
       "      <td>S</td>\n",
       "    </tr>\n",
       "    <tr>\n",
       "      <th>888</th>\n",
       "      <td>888</td>\n",
       "      <td>889</td>\n",
       "      <td>0</td>\n",
       "      <td>3</td>\n",
       "      <td>Johnston, Miss. Catherine Helen \"Carrie\"</td>\n",
       "      <td>female</td>\n",
       "      <td>1</td>\n",
       "      <td>2</td>\n",
       "      <td>W./C. 6607</td>\n",
       "      <td>23.4500</td>\n",
       "      <td>S</td>\n",
       "    </tr>\n",
       "    <tr>\n",
       "      <th>889</th>\n",
       "      <td>889</td>\n",
       "      <td>890</td>\n",
       "      <td>1</td>\n",
       "      <td>1</td>\n",
       "      <td>Behr, Mr. Karl Howell</td>\n",
       "      <td>male</td>\n",
       "      <td>0</td>\n",
       "      <td>0</td>\n",
       "      <td>111369</td>\n",
       "      <td>30.0000</td>\n",
       "      <td>C</td>\n",
       "    </tr>\n",
       "    <tr>\n",
       "      <th>890</th>\n",
       "      <td>890</td>\n",
       "      <td>891</td>\n",
       "      <td>0</td>\n",
       "      <td>3</td>\n",
       "      <td>Dooley, Mr. Patrick</td>\n",
       "      <td>male</td>\n",
       "      <td>0</td>\n",
       "      <td>0</td>\n",
       "      <td>370376</td>\n",
       "      <td>7.7500</td>\n",
       "      <td>Q</td>\n",
       "    </tr>\n",
       "  </tbody>\n",
       "</table>\n",
       "<p>891 rows × 11 columns</p>\n",
       "</div>"
      ],
      "text/plain": [
       "     Unnamed: 0  PassengerId  Survived  Pclass  \\\n",
       "0             0            1         0       3   \n",
       "1             1            2         1       1   \n",
       "2             2            3         1       3   \n",
       "3             3            4         1       1   \n",
       "4             4            5         0       3   \n",
       "..          ...          ...       ...     ...   \n",
       "886         886          887         0       2   \n",
       "887         887          888         1       1   \n",
       "888         888          889         0       3   \n",
       "889         889          890         1       1   \n",
       "890         890          891         0       3   \n",
       "\n",
       "                                                  Name     Sex  SibSp  Parch  \\\n",
       "0                              Braund, Mr. Owen Harris    male      1      0   \n",
       "1    Cumings, Mrs. John Bradley (Florence Briggs Th...  female      1      0   \n",
       "2                               Heikkinen, Miss. Laina  female      0      0   \n",
       "3         Futrelle, Mrs. Jacques Heath (Lily May Peel)  female      1      0   \n",
       "4                             Allen, Mr. William Henry    male      0      0   \n",
       "..                                                 ...     ...    ...    ...   \n",
       "886                              Montvila, Rev. Juozas    male      0      0   \n",
       "887                       Graham, Miss. Margaret Edith  female      0      0   \n",
       "888           Johnston, Miss. Catherine Helen \"Carrie\"  female      1      2   \n",
       "889                              Behr, Mr. Karl Howell    male      0      0   \n",
       "890                                Dooley, Mr. Patrick    male      0      0   \n",
       "\n",
       "               Ticket     Fare Embarked  \n",
       "0           A/5 21171   7.2500        S  \n",
       "1            PC 17599  71.2833        C  \n",
       "2    STON/O2. 3101282   7.9250        S  \n",
       "3              113803  53.1000        S  \n",
       "4              373450   8.0500        S  \n",
       "..                ...      ...      ...  \n",
       "886            211536  13.0000        S  \n",
       "887            112053  30.0000        S  \n",
       "888        W./C. 6607  23.4500        S  \n",
       "889            111369  30.0000        C  \n",
       "890            370376   7.7500        Q  \n",
       "\n",
       "[891 rows x 11 columns]"
      ]
     },
     "execution_count": 444,
     "metadata": {},
     "output_type": "execute_result"
    }
   ],
   "source": [
    "report"
   ]
  },
  {
   "cell_type": "code",
   "execution_count": 445,
   "id": "c18ae57a",
   "metadata": {},
   "outputs": [
    {
     "data": {
      "text/plain": [
       "Unnamed: 0     0\n",
       "PassengerId    0\n",
       "Survived       0\n",
       "Pclass         0\n",
       "Name           0\n",
       "Sex            0\n",
       "SibSp          0\n",
       "Parch          0\n",
       "Ticket         0\n",
       "Fare           0\n",
       "Embarked       0\n",
       "dtype: int64"
      ]
     },
     "execution_count": 445,
     "metadata": {},
     "output_type": "execute_result"
    }
   ],
   "source": [
    "report=report.dropna()\n",
    "report.isnull().sum()"
   ]
  },
  {
   "cell_type": "code",
   "execution_count": 446,
   "id": "70dbcf2c",
   "metadata": {},
   "outputs": [
    {
     "name": "stdout",
     "output_type": "stream",
     "text": [
      "<class 'pandas.core.frame.DataFrame'>\n",
      "Int64Index: 889 entries, 0 to 890\n",
      "Data columns (total 11 columns):\n",
      " #   Column       Non-Null Count  Dtype  \n",
      "---  ------       --------------  -----  \n",
      " 0   Unnamed: 0   889 non-null    int64  \n",
      " 1   PassengerId  889 non-null    int64  \n",
      " 2   Survived     889 non-null    int64  \n",
      " 3   Pclass       889 non-null    int64  \n",
      " 4   Name         889 non-null    object \n",
      " 5   Sex          889 non-null    object \n",
      " 6   SibSp        889 non-null    int64  \n",
      " 7   Parch        889 non-null    int64  \n",
      " 8   Ticket       889 non-null    object \n",
      " 9   Fare         889 non-null    float64\n",
      " 10  Embarked     889 non-null    object \n",
      "dtypes: float64(1), int64(6), object(4)\n",
      "memory usage: 83.3+ KB\n"
     ]
    }
   ],
   "source": [
    "report.info()"
   ]
  },
  {
   "cell_type": "code",
   "execution_count": 447,
   "id": "f094963f",
   "metadata": {},
   "outputs": [
    {
     "data": {
      "text/html": [
       "<div>\n",
       "<style scoped>\n",
       "    .dataframe tbody tr th:only-of-type {\n",
       "        vertical-align: middle;\n",
       "    }\n",
       "\n",
       "    .dataframe tbody tr th {\n",
       "        vertical-align: top;\n",
       "    }\n",
       "\n",
       "    .dataframe thead th {\n",
       "        text-align: right;\n",
       "    }\n",
       "</style>\n",
       "<table border=\"1\" class=\"dataframe\">\n",
       "  <thead>\n",
       "    <tr style=\"text-align: right;\">\n",
       "      <th></th>\n",
       "      <th>Unnamed: 0</th>\n",
       "      <th>PassengerId</th>\n",
       "      <th>Survived</th>\n",
       "      <th>Pclass</th>\n",
       "      <th>Name</th>\n",
       "      <th>Sex</th>\n",
       "      <th>SibSp</th>\n",
       "      <th>Parch</th>\n",
       "      <th>Ticket</th>\n",
       "      <th>Fare</th>\n",
       "      <th>Embarked</th>\n",
       "    </tr>\n",
       "  </thead>\n",
       "  <tbody>\n",
       "    <tr>\n",
       "      <th>0</th>\n",
       "      <td>0</td>\n",
       "      <td>1</td>\n",
       "      <td>0</td>\n",
       "      <td>3</td>\n",
       "      <td>Braund, Mr. Owen Harris</td>\n",
       "      <td>male</td>\n",
       "      <td>1</td>\n",
       "      <td>0</td>\n",
       "      <td>A/5 21171</td>\n",
       "      <td>7.2500</td>\n",
       "      <td>S</td>\n",
       "    </tr>\n",
       "    <tr>\n",
       "      <th>1</th>\n",
       "      <td>1</td>\n",
       "      <td>2</td>\n",
       "      <td>1</td>\n",
       "      <td>1</td>\n",
       "      <td>Cumings, Mrs. John Bradley (Florence Briggs Th...</td>\n",
       "      <td>female</td>\n",
       "      <td>1</td>\n",
       "      <td>0</td>\n",
       "      <td>PC 17599</td>\n",
       "      <td>71.2833</td>\n",
       "      <td>C</td>\n",
       "    </tr>\n",
       "    <tr>\n",
       "      <th>2</th>\n",
       "      <td>2</td>\n",
       "      <td>3</td>\n",
       "      <td>1</td>\n",
       "      <td>3</td>\n",
       "      <td>Heikkinen, Miss. Laina</td>\n",
       "      <td>female</td>\n",
       "      <td>0</td>\n",
       "      <td>0</td>\n",
       "      <td>STON/O2. 3101282</td>\n",
       "      <td>7.9250</td>\n",
       "      <td>S</td>\n",
       "    </tr>\n",
       "    <tr>\n",
       "      <th>3</th>\n",
       "      <td>3</td>\n",
       "      <td>4</td>\n",
       "      <td>1</td>\n",
       "      <td>1</td>\n",
       "      <td>Futrelle, Mrs. Jacques Heath (Lily May Peel)</td>\n",
       "      <td>female</td>\n",
       "      <td>1</td>\n",
       "      <td>0</td>\n",
       "      <td>113803</td>\n",
       "      <td>53.1000</td>\n",
       "      <td>S</td>\n",
       "    </tr>\n",
       "    <tr>\n",
       "      <th>4</th>\n",
       "      <td>4</td>\n",
       "      <td>5</td>\n",
       "      <td>0</td>\n",
       "      <td>3</td>\n",
       "      <td>Allen, Mr. William Henry</td>\n",
       "      <td>male</td>\n",
       "      <td>0</td>\n",
       "      <td>0</td>\n",
       "      <td>373450</td>\n",
       "      <td>8.0500</td>\n",
       "      <td>S</td>\n",
       "    </tr>\n",
       "    <tr>\n",
       "      <th>...</th>\n",
       "      <td>...</td>\n",
       "      <td>...</td>\n",
       "      <td>...</td>\n",
       "      <td>...</td>\n",
       "      <td>...</td>\n",
       "      <td>...</td>\n",
       "      <td>...</td>\n",
       "      <td>...</td>\n",
       "      <td>...</td>\n",
       "      <td>...</td>\n",
       "      <td>...</td>\n",
       "    </tr>\n",
       "    <tr>\n",
       "      <th>886</th>\n",
       "      <td>886</td>\n",
       "      <td>887</td>\n",
       "      <td>0</td>\n",
       "      <td>2</td>\n",
       "      <td>Montvila, Rev. Juozas</td>\n",
       "      <td>male</td>\n",
       "      <td>0</td>\n",
       "      <td>0</td>\n",
       "      <td>211536</td>\n",
       "      <td>13.0000</td>\n",
       "      <td>S</td>\n",
       "    </tr>\n",
       "    <tr>\n",
       "      <th>887</th>\n",
       "      <td>887</td>\n",
       "      <td>888</td>\n",
       "      <td>1</td>\n",
       "      <td>1</td>\n",
       "      <td>Graham, Miss. Margaret Edith</td>\n",
       "      <td>female</td>\n",
       "      <td>0</td>\n",
       "      <td>0</td>\n",
       "      <td>112053</td>\n",
       "      <td>30.0000</td>\n",
       "      <td>S</td>\n",
       "    </tr>\n",
       "    <tr>\n",
       "      <th>888</th>\n",
       "      <td>888</td>\n",
       "      <td>889</td>\n",
       "      <td>0</td>\n",
       "      <td>3</td>\n",
       "      <td>Johnston, Miss. Catherine Helen \"Carrie\"</td>\n",
       "      <td>female</td>\n",
       "      <td>1</td>\n",
       "      <td>2</td>\n",
       "      <td>W./C. 6607</td>\n",
       "      <td>23.4500</td>\n",
       "      <td>S</td>\n",
       "    </tr>\n",
       "    <tr>\n",
       "      <th>889</th>\n",
       "      <td>889</td>\n",
       "      <td>890</td>\n",
       "      <td>1</td>\n",
       "      <td>1</td>\n",
       "      <td>Behr, Mr. Karl Howell</td>\n",
       "      <td>male</td>\n",
       "      <td>0</td>\n",
       "      <td>0</td>\n",
       "      <td>111369</td>\n",
       "      <td>30.0000</td>\n",
       "      <td>C</td>\n",
       "    </tr>\n",
       "    <tr>\n",
       "      <th>890</th>\n",
       "      <td>890</td>\n",
       "      <td>891</td>\n",
       "      <td>0</td>\n",
       "      <td>3</td>\n",
       "      <td>Dooley, Mr. Patrick</td>\n",
       "      <td>male</td>\n",
       "      <td>0</td>\n",
       "      <td>0</td>\n",
       "      <td>370376</td>\n",
       "      <td>7.7500</td>\n",
       "      <td>Q</td>\n",
       "    </tr>\n",
       "  </tbody>\n",
       "</table>\n",
       "<p>889 rows × 11 columns</p>\n",
       "</div>"
      ],
      "text/plain": [
       "     Unnamed: 0  PassengerId  Survived  Pclass  \\\n",
       "0             0            1         0       3   \n",
       "1             1            2         1       1   \n",
       "2             2            3         1       3   \n",
       "3             3            4         1       1   \n",
       "4             4            5         0       3   \n",
       "..          ...          ...       ...     ...   \n",
       "886         886          887         0       2   \n",
       "887         887          888         1       1   \n",
       "888         888          889         0       3   \n",
       "889         889          890         1       1   \n",
       "890         890          891         0       3   \n",
       "\n",
       "                                                  Name     Sex  SibSp  Parch  \\\n",
       "0                              Braund, Mr. Owen Harris    male      1      0   \n",
       "1    Cumings, Mrs. John Bradley (Florence Briggs Th...  female      1      0   \n",
       "2                               Heikkinen, Miss. Laina  female      0      0   \n",
       "3         Futrelle, Mrs. Jacques Heath (Lily May Peel)  female      1      0   \n",
       "4                             Allen, Mr. William Henry    male      0      0   \n",
       "..                                                 ...     ...    ...    ...   \n",
       "886                              Montvila, Rev. Juozas    male      0      0   \n",
       "887                       Graham, Miss. Margaret Edith  female      0      0   \n",
       "888           Johnston, Miss. Catherine Helen \"Carrie\"  female      1      2   \n",
       "889                              Behr, Mr. Karl Howell    male      0      0   \n",
       "890                                Dooley, Mr. Patrick    male      0      0   \n",
       "\n",
       "               Ticket     Fare Embarked  \n",
       "0           A/5 21171   7.2500        S  \n",
       "1            PC 17599  71.2833        C  \n",
       "2    STON/O2. 3101282   7.9250        S  \n",
       "3              113803  53.1000        S  \n",
       "4              373450   8.0500        S  \n",
       "..                ...      ...      ...  \n",
       "886            211536  13.0000        S  \n",
       "887            112053  30.0000        S  \n",
       "888        W./C. 6607  23.4500        S  \n",
       "889            111369  30.0000        C  \n",
       "890            370376   7.7500        Q  \n",
       "\n",
       "[889 rows x 11 columns]"
      ]
     },
     "execution_count": 447,
     "metadata": {},
     "output_type": "execute_result"
    }
   ],
   "source": [
    "report"
   ]
  },
  {
   "cell_type": "code",
   "execution_count": 448,
   "id": "51cb484c",
   "metadata": {},
   "outputs": [
    {
     "data": {
      "text/plain": [
       "(889, 11)"
      ]
     },
     "execution_count": 448,
     "metadata": {},
     "output_type": "execute_result"
    }
   ],
   "source": [
    "report.shape"
   ]
  },
  {
   "cell_type": "code",
   "execution_count": 449,
   "id": "316a04c7",
   "metadata": {},
   "outputs": [
    {
     "data": {
      "text/plain": [
       "Index(['Unnamed: 0', 'PassengerId', 'Survived', 'Pclass', 'Name', 'Sex',\n",
       "       'SibSp', 'Parch', 'Ticket', 'Fare', 'Embarked'],\n",
       "      dtype='object')"
      ]
     },
     "execution_count": 449,
     "metadata": {},
     "output_type": "execute_result"
    }
   ],
   "source": [
    "report.columns"
   ]
  },
  {
   "cell_type": "code",
   "execution_count": 425,
   "id": "0a4f7b7c",
   "metadata": {},
   "outputs": [],
   "source": [
    "#Categorical Data Visualization\n",
    "data_visualization_nominal=report[['Unnamed: 0', 'PassengerId', 'Survived', 'Pclass', 'Name', 'Sex',\n",
    "       'SibSp', 'Parch', 'Ticket', 'Fare', 'Embarked']].copy()"
   ]
  },
  {
   "cell_type": "code",
   "execution_count": 426,
   "id": "e30a649e",
   "metadata": {},
   "outputs": [
    {
     "data": {
      "text/plain": [
       "Index(['Unnamed: 0', 'PassengerId', 'Survived', 'Pclass', 'Name', 'Sex',\n",
       "       'SibSp', 'Parch', 'Ticket', 'Fare', 'Embarked'],\n",
       "      dtype='object')"
      ]
     },
     "execution_count": 426,
     "metadata": {},
     "output_type": "execute_result"
    }
   ],
   "source": [
    "data_visualization_nominal.columns"
   ]
  },
  {
   "cell_type": "code",
   "execution_count": 401,
   "id": "ae0d6d22",
   "metadata": {},
   "outputs": [
    {
     "name": "stdout",
     "output_type": "stream",
     "text": [
      "3    491\n",
      "1    214\n",
      "2    184\n",
      "Name: Pclass, dtype: int64\n"
     ]
    },
    {
     "data": {
      "image/png": "[encoded data removed]",
      "text/plain": [
       "<Figure size 432x288 with 1 Axes>"
      ]
     },
     "metadata": {
      "needs_background": "light"
     },
     "output_type": "display_data"
    }
   ],
   "source": [
    "report=sns.countplot(x='Pclass',data=data_visualization_nominal)\n",
    "print(data_visualization_nominal['Pclass'].value_counts())"
   ]
  },
  {
   "cell_type": "code",
   "execution_count": 428,
   "id": "3d580b16",
   "metadata": {},
   "outputs": [
    {
     "data": {
      "text/plain": [
       "<AxesSubplot:xlabel='Survived', ylabel='count'>"
      ]
     },
     "execution_count": 428,
     "metadata": {},
     "output_type": "execute_result"
    },
    {
     "data": {
      "image/png": "[encoded data removed]",
      "text/plain": [
       "<Figure size 432x288 with 1 Axes>"
      ]
     },
     "metadata": {
      "needs_background": "light"
     },
     "output_type": "display_data"
    }
   ],
   "source": [
    "sns.countplot(x='Survived',hue='Pclass',data=report)"
   ]
  },
  {
   "cell_type": "code",
   "execution_count": 429,
   "id": "7325cd39",
   "metadata": {},
   "outputs": [
    {
     "name": "stdout",
     "output_type": "stream",
     "text": [
      "male      577\n",
      "female    312\n",
      "Name: Sex, dtype: int64\n"
     ]
    },
    {
     "data": {
      "image/png": "[encoded data removed]",
      "text/plain": [
       "<Figure size 432x288 with 1 Axes>"
      ]
     },
     "metadata": {
      "needs_background": "light"
     },
     "output_type": "display_data"
    }
   ],
   "source": [
    "report=sns.countplot(x='Sex',data=data_visualization_nominal)\n",
    "print(data_visualization_nominal['Sex'].value_counts())"
   ]
  },
  {
   "cell_type": "code",
   "execution_count": 430,
   "id": "11255cce",
   "metadata": {},
   "outputs": [
    {
     "name": "stdout",
     "output_type": "stream",
     "text": [
      "0    549\n",
      "1    340\n",
      "Name: Survived, dtype: int64\n"
     ]
    },
    {
     "data": {
      "image/png": "[encoded data removed]",
      "text/plain": [
       "<Figure size 432x288 with 1 Axes>"
      ]
     },
     "metadata": {
      "needs_background": "light"
     },
     "output_type": "display_data"
    }
   ],
   "source": [
    "report=sns.countplot(x='Survived',data=data_visualization_nominal)\n",
    "print(data_visualization_nominal['Survived'].value_counts())"
   ]
  },
  {
   "cell_type": "code",
   "execution_count": 431,
   "id": "5c2b0c5d",
   "metadata": {},
   "outputs": [
    {
     "name": "stdout",
     "output_type": "stream",
     "text": [
      "S    644\n",
      "C    168\n",
      "Q     77\n",
      "Name: Embarked, dtype: int64\n"
     ]
    },
    {
     "data": {
      "image/png": "[encoded data removed]",
      "text/plain": [
       "<Figure size 432x288 with 1 Axes>"
      ]
     },
     "metadata": {
      "needs_background": "light"
     },
     "output_type": "display_data"
    }
   ],
   "source": [
    "report=sns.countplot(x='Embarked',hue='Sex',data=data_visualization_nominal)\n",
    "print(data_visualization_nominal['Embarked'].value_counts())"
   ]
  },
  {
   "cell_type": "code",
   "execution_count": 432,
   "id": "ba71cfc1",
   "metadata": {},
   "outputs": [
    {
     "name": "stdout",
     "output_type": "stream",
     "text": [
      "S    644\n",
      "C    168\n",
      "Q     77\n",
      "Name: Embarked, dtype: int64\n"
     ]
    },
    {
     "data": {
      "image/png": "[encoded data removed]",
      "text/plain": [
       "<Figure size 432x288 with 1 Axes>"
      ]
     },
     "metadata": {
      "needs_background": "light"
     },
     "output_type": "display_data"
    }
   ],
   "source": [
    "report=sns.countplot(x='Embarked',data=data_visualization_nominal)\n",
    "print(data_visualization_nominal['Embarked'].value_counts())"
   ]
  },
  {
   "cell_type": "code",
   "execution_count": 450,
   "id": "230d4302",
   "metadata": {},
   "outputs": [
    {
     "data": {
      "text/plain": [
       "<AxesSubplot:xlabel='SibSp', ylabel='count'>"
      ]
     },
     "execution_count": 450,
     "metadata": {},
     "output_type": "execute_result"
    },
    {
     "data": {
      "image/png": "[encoded data removed]",
      "text/plain": [
       "<Figure size 432x288 with 1 Axes>"
      ]
     },
     "metadata": {
      "needs_background": "light"
     },
     "output_type": "display_data"
    }
   ],
   "source": [
    "sns.countplot(x='SibSp',data=report)"
   ]
  },
  {
   "cell_type": "code",
   "execution_count": 451,
   "id": "342f62c9",
   "metadata": {},
   "outputs": [
    {
     "data": {
      "text/plain": [
       "<AxesSubplot:>"
      ]
     },
     "execution_count": 451,
     "metadata": {},
     "output_type": "execute_result"
    },
    {
     "data": {
      "image/png": "[encoded data removed]",
      "text/plain": [
       "<Figure size 720x432 with 1 Axes>"
      ]
     },
     "metadata": {
      "needs_background": "light"
     },
     "output_type": "display_data"
    }
   ],
   "source": [
    "report['Fare'].hist(bins=40,figsize=(10,6))"
   ]
  },
  {
   "cell_type": "code",
   "execution_count": 455,
   "id": "d57f5afc",
   "metadata": {},
   "outputs": [
    {
     "data": {
      "text/plain": [
       "<AxesSubplot:xlabel='Unnamed: 0', ylabel='Survived'>"
      ]
     },
     "execution_count": 455,
     "metadata": {},
     "output_type": "execute_result"
    },
    {
     "data": {
      "image/png": "[encoded data removed]",
      "text/plain": [
       "<Figure size 432x288 with 1 Axes>"
      ]
     },
     "metadata": {
      "needs_background": "light"
     },
     "output_type": "display_data"
    }
   ],
   "source": [
    "sns.scatterplot(x=\"Unnamed: 0\",y='Survived',data=report)"
   ]
  },
  {
   "cell_type": "code",
   "execution_count": 249,
   "id": "30e658c2",
   "metadata": {},
   "outputs": [
    {
     "data": {
      "text/plain": [
       "<AxesSubplot:xlabel='PassengerId', ylabel='Survived'>"
      ]
     },
     "execution_count": 249,
     "metadata": {},
     "output_type": "execute_result"
    },
    {
     "data": {
      "image/png": "[encoded data removed]",
      "text/plain": [
       "<Figure size 432x288 with 1 Axes>"
      ]
     },
     "metadata": {
      "needs_background": "light"
     },
     "output_type": "display_data"
    }
   ],
   "source": [
    "sns.scatterplot(x=\"PassengerId\",y='Survived',data=report)"
   ]
  },
  {
   "cell_type": "code",
   "execution_count": 250,
   "id": "a7652f13",
   "metadata": {},
   "outputs": [
    {
     "data": {
      "text/plain": [
       "<AxesSubplot:xlabel='Pclass', ylabel='Survived'>"
      ]
     },
     "execution_count": 250,
     "metadata": {},
     "output_type": "execute_result"
    },
    {
     "data": {
      "image/png": "[encoded data removed]",
      "text/plain": [
       "<Figure size 432x288 with 1 Axes>"
      ]
     },
     "metadata": {
      "needs_background": "light"
     },
     "output_type": "display_data"
    }
   ],
   "source": [
    "sns.scatterplot(x=\"Pclass\",y='Survived',data=report)"
   ]
  },
  {
   "cell_type": "code",
   "execution_count": 251,
   "id": "08254e12",
   "metadata": {},
   "outputs": [
    {
     "data": {
      "text/plain": [
       "<AxesSubplot:xlabel='SibSp', ylabel='Survived'>"
      ]
     },
     "execution_count": 251,
     "metadata": {},
     "output_type": "execute_result"
    },
    {
     "data": {
      "image/png": "[encoded data removed]",
      "text/plain": [
       "<Figure size 432x288 with 1 Axes>"
      ]
     },
     "metadata": {
      "needs_background": "light"
     },
     "output_type": "display_data"
    }
   ],
   "source": [
    "sns.scatterplot(x=\"SibSp\",y='Survived',data=report)"
   ]
  },
  {
   "cell_type": "code",
   "execution_count": 252,
   "id": "5a8e7f7c",
   "metadata": {},
   "outputs": [
    {
     "data": {
      "text/plain": [
       "<AxesSubplot:xlabel='Parch', ylabel='Survived'>"
      ]
     },
     "execution_count": 252,
     "metadata": {},
     "output_type": "execute_result"
    },
    {
     "data": {
      "image/png": "[encoded data removed]",
      "text/plain": [
       "<Figure size 432x288 with 1 Axes>"
      ]
     },
     "metadata": {
      "needs_background": "light"
     },
     "output_type": "display_data"
    }
   ],
   "source": [
    "sns.scatterplot(x=\"Parch\",y='Survived',data=report)"
   ]
  },
  {
   "cell_type": "code",
   "execution_count": 253,
   "id": "9d0591db",
   "metadata": {},
   "outputs": [
    {
     "data": {
      "text/plain": [
       "<AxesSubplot:xlabel='Ticket', ylabel='Survived'>"
      ]
     },
     "execution_count": 253,
     "metadata": {},
     "output_type": "execute_result"
    },
    {
     "data": {
      "image/png": "[encoded data removed]",
      "text/plain": [
       "<Figure size 432x288 with 1 Axes>"
      ]
     },
     "metadata": {
      "needs_background": "light"
     },
     "output_type": "display_data"
    }
   ],
   "source": [
    "sns.scatterplot(x=\"Ticket\",y='Survived',data=report)"
   ]
  },
  {
   "cell_type": "code",
   "execution_count": 254,
   "id": "b23db459",
   "metadata": {},
   "outputs": [
    {
     "data": {
      "text/plain": [
       "<AxesSubplot:xlabel='Fare', ylabel='Survived'>"
      ]
     },
     "execution_count": 254,
     "metadata": {},
     "output_type": "execute_result"
    },
    {
     "data": {
      "image/png": "[encoded data removed]",
      "text/plain": [
       "<Figure size 432x288 with 1 Axes>"
      ]
     },
     "metadata": {
      "needs_background": "light"
     },
     "output_type": "display_data"
    }
   ],
   "source": [
    "sns.scatterplot(x=\"Fare\",y='Survived',data=report)"
   ]
  },
  {
   "cell_type": "code",
   "execution_count": 255,
   "id": "05efee28",
   "metadata": {},
   "outputs": [
    {
     "data": {
      "text/plain": [
       "<AxesSubplot:xlabel='Embarked', ylabel='Survived'>"
      ]
     },
     "execution_count": 255,
     "metadata": {},
     "output_type": "execute_result"
    },
    {
     "data": {
      "image/png": "[encoded data removed]",
      "text/plain": [
       "<Figure size 432x288 with 1 Axes>"
      ]
     },
     "metadata": {
      "needs_background": "light"
     },
     "output_type": "display_data"
    }
   ],
   "source": [
    "sns.scatterplot(x=\"Embarked\",y='Survived',data=report)"
   ]
  },
  {
   "cell_type": "code",
   "execution_count": 456,
   "id": "a0442057",
   "metadata": {},
   "outputs": [
    {
     "data": {
      "text/plain": [
       "<seaborn.axisgrid.PairGrid at 0x7fba79c03f70>"
      ]
     },
     "execution_count": 456,
     "metadata": {},
     "output_type": "execute_result"
    },
    {
     "data": {
      "image/png": "[encoded data removed]",
      "text/plain": [
       "<Figure size 1260x1260 with 56 Axes>"
      ]
     },
     "metadata": {
      "needs_background": "light"
     },
     "output_type": "display_data"
    }
   ],
   "source": [
    "sns.pairplot(report)"
   ]
  },
  {
   "cell_type": "code",
   "execution_count": 457,
   "id": "e0b1ac4e",
   "metadata": {},
   "outputs": [],
   "source": [
    "#encoding dataframe\n",
    "from sklearn.preprocessing import OrdinalEncoder\n",
    "data_2=OrdinalEncoder()\n"
   ]
  },
  {
   "cell_type": "code",
   "execution_count": 460,
   "id": "34599584",
   "metadata": {},
   "outputs": [
    {
     "data": {
      "text/html": [
       "<div>\n",
       "<style scoped>\n",
       "    .dataframe tbody tr th:only-of-type {\n",
       "        vertical-align: middle;\n",
       "    }\n",
       "\n",
       "    .dataframe tbody tr th {\n",
       "        vertical-align: top;\n",
       "    }\n",
       "\n",
       "    .dataframe thead th {\n",
       "        text-align: right;\n",
       "    }\n",
       "</style>\n",
       "<table border=\"1\" class=\"dataframe\">\n",
       "  <thead>\n",
       "    <tr style=\"text-align: right;\">\n",
       "      <th></th>\n",
       "      <th>Unnamed: 0</th>\n",
       "      <th>PassengerId</th>\n",
       "      <th>Survived</th>\n",
       "      <th>Pclass</th>\n",
       "      <th>Name</th>\n",
       "      <th>Sex</th>\n",
       "      <th>SibSp</th>\n",
       "      <th>Parch</th>\n",
       "      <th>Ticket</th>\n",
       "      <th>Fare</th>\n",
       "      <th>Embarked</th>\n",
       "    </tr>\n",
       "  </thead>\n",
       "  <tbody>\n",
       "    <tr>\n",
       "      <th>0</th>\n",
       "      <td>0</td>\n",
       "      <td>1</td>\n",
       "      <td>0</td>\n",
       "      <td>3</td>\n",
       "      <td>108.0</td>\n",
       "      <td>1.0</td>\n",
       "      <td>1</td>\n",
       "      <td>0</td>\n",
       "      <td>522.0</td>\n",
       "      <td>7.2500</td>\n",
       "      <td>2.0</td>\n",
       "    </tr>\n",
       "    <tr>\n",
       "      <th>1</th>\n",
       "      <td>1</td>\n",
       "      <td>2</td>\n",
       "      <td>1</td>\n",
       "      <td>1</td>\n",
       "      <td>190.0</td>\n",
       "      <td>0.0</td>\n",
       "      <td>1</td>\n",
       "      <td>0</td>\n",
       "      <td>595.0</td>\n",
       "      <td>71.2833</td>\n",
       "      <td>0.0</td>\n",
       "    </tr>\n",
       "    <tr>\n",
       "      <th>2</th>\n",
       "      <td>2</td>\n",
       "      <td>3</td>\n",
       "      <td>1</td>\n",
       "      <td>3</td>\n",
       "      <td>353.0</td>\n",
       "      <td>0.0</td>\n",
       "      <td>0</td>\n",
       "      <td>0</td>\n",
       "      <td>668.0</td>\n",
       "      <td>7.9250</td>\n",
       "      <td>2.0</td>\n",
       "    </tr>\n",
       "    <tr>\n",
       "      <th>3</th>\n",
       "      <td>3</td>\n",
       "      <td>4</td>\n",
       "      <td>1</td>\n",
       "      <td>1</td>\n",
       "      <td>272.0</td>\n",
       "      <td>0.0</td>\n",
       "      <td>1</td>\n",
       "      <td>0</td>\n",
       "      <td>48.0</td>\n",
       "      <td>53.1000</td>\n",
       "      <td>2.0</td>\n",
       "    </tr>\n",
       "    <tr>\n",
       "      <th>4</th>\n",
       "      <td>4</td>\n",
       "      <td>5</td>\n",
       "      <td>0</td>\n",
       "      <td>3</td>\n",
       "      <td>15.0</td>\n",
       "      <td>1.0</td>\n",
       "      <td>0</td>\n",
       "      <td>0</td>\n",
       "      <td>471.0</td>\n",
       "      <td>8.0500</td>\n",
       "      <td>2.0</td>\n",
       "    </tr>\n",
       "    <tr>\n",
       "      <th>...</th>\n",
       "      <td>...</td>\n",
       "      <td>...</td>\n",
       "      <td>...</td>\n",
       "      <td>...</td>\n",
       "      <td>...</td>\n",
       "      <td>...</td>\n",
       "      <td>...</td>\n",
       "      <td>...</td>\n",
       "      <td>...</td>\n",
       "      <td>...</td>\n",
       "      <td>...</td>\n",
       "    </tr>\n",
       "    <tr>\n",
       "      <th>886</th>\n",
       "      <td>886</td>\n",
       "      <td>887</td>\n",
       "      <td>0</td>\n",
       "      <td>2</td>\n",
       "      <td>547.0</td>\n",
       "      <td>1.0</td>\n",
       "      <td>0</td>\n",
       "      <td>0</td>\n",
       "      <td>100.0</td>\n",
       "      <td>13.0000</td>\n",
       "      <td>2.0</td>\n",
       "    </tr>\n",
       "    <tr>\n",
       "      <th>887</th>\n",
       "      <td>887</td>\n",
       "      <td>888</td>\n",
       "      <td>1</td>\n",
       "      <td>1</td>\n",
       "      <td>303.0</td>\n",
       "      <td>0.0</td>\n",
       "      <td>0</td>\n",
       "      <td>0</td>\n",
       "      <td>14.0</td>\n",
       "      <td>30.0000</td>\n",
       "      <td>2.0</td>\n",
       "    </tr>\n",
       "    <tr>\n",
       "      <th>888</th>\n",
       "      <td>888</td>\n",
       "      <td>889</td>\n",
       "      <td>0</td>\n",
       "      <td>3</td>\n",
       "      <td>412.0</td>\n",
       "      <td>0.0</td>\n",
       "      <td>1</td>\n",
       "      <td>2</td>\n",
       "      <td>674.0</td>\n",
       "      <td>23.4500</td>\n",
       "      <td>2.0</td>\n",
       "    </tr>\n",
       "    <tr>\n",
       "      <th>889</th>\n",
       "      <td>889</td>\n",
       "      <td>890</td>\n",
       "      <td>1</td>\n",
       "      <td>1</td>\n",
       "      <td>81.0</td>\n",
       "      <td>1.0</td>\n",
       "      <td>0</td>\n",
       "      <td>0</td>\n",
       "      <td>8.0</td>\n",
       "      <td>30.0000</td>\n",
       "      <td>0.0</td>\n",
       "    </tr>\n",
       "    <tr>\n",
       "      <th>890</th>\n",
       "      <td>890</td>\n",
       "      <td>891</td>\n",
       "      <td>0</td>\n",
       "      <td>3</td>\n",
       "      <td>220.0</td>\n",
       "      <td>1.0</td>\n",
       "      <td>0</td>\n",
       "      <td>0</td>\n",
       "      <td>465.0</td>\n",
       "      <td>7.7500</td>\n",
       "      <td>1.0</td>\n",
       "    </tr>\n",
       "  </tbody>\n",
       "</table>\n",
       "<p>889 rows × 11 columns</p>\n",
       "</div>"
      ],
      "text/plain": [
       "     Unnamed: 0  PassengerId  Survived  Pclass   Name  Sex  SibSp  Parch  \\\n",
       "0             0            1         0       3  108.0  1.0      1      0   \n",
       "1             1            2         1       1  190.0  0.0      1      0   \n",
       "2             2            3         1       3  353.0  0.0      0      0   \n",
       "3             3            4         1       1  272.0  0.0      1      0   \n",
       "4             4            5         0       3   15.0  1.0      0      0   \n",
       "..          ...          ...       ...     ...    ...  ...    ...    ...   \n",
       "886         886          887         0       2  547.0  1.0      0      0   \n",
       "887         887          888         1       1  303.0  0.0      0      0   \n",
       "888         888          889         0       3  412.0  0.0      1      2   \n",
       "889         889          890         1       1   81.0  1.0      0      0   \n",
       "890         890          891         0       3  220.0  1.0      0      0   \n",
       "\n",
       "     Ticket     Fare  Embarked  \n",
       "0     522.0   7.2500       2.0  \n",
       "1     595.0  71.2833       0.0  \n",
       "2     668.0   7.9250       2.0  \n",
       "3      48.0  53.1000       2.0  \n",
       "4     471.0   8.0500       2.0  \n",
       "..      ...      ...       ...  \n",
       "886   100.0  13.0000       2.0  \n",
       "887    14.0  30.0000       2.0  \n",
       "888   674.0  23.4500       2.0  \n",
       "889     8.0  30.0000       0.0  \n",
       "890   465.0   7.7500       1.0  \n",
       "\n",
       "[889 rows x 11 columns]"
      ]
     },
     "execution_count": 460,
     "metadata": {},
     "output_type": "execute_result"
    }
   ],
   "source": [
    "for i in report.columns:\n",
    "    if report[i].dtypes=='object':\n",
    "        report[i]=data_2.fit_transform(report[i].values.reshape(-1,1))\n",
    "report"
   ]
  },
  {
   "cell_type": "code",
   "execution_count": 461,
   "id": "84159c9b",
   "metadata": {},
   "outputs": [
    {
     "data": {
      "text/plain": [
       "pandas.core.frame.DataFrame"
      ]
     },
     "execution_count": 461,
     "metadata": {},
     "output_type": "execute_result"
    }
   ],
   "source": [
    "type(report)"
   ]
  },
  {
   "cell_type": "code",
   "execution_count": 462,
   "id": "286fa37b",
   "metadata": {},
   "outputs": [
    {
     "data": {
      "text/html": [
       "<div>\n",
       "<style scoped>\n",
       "    .dataframe tbody tr th:only-of-type {\n",
       "        vertical-align: middle;\n",
       "    }\n",
       "\n",
       "    .dataframe tbody tr th {\n",
       "        vertical-align: top;\n",
       "    }\n",
       "\n",
       "    .dataframe thead th {\n",
       "        text-align: right;\n",
       "    }\n",
       "</style>\n",
       "<table border=\"1\" class=\"dataframe\">\n",
       "  <thead>\n",
       "    <tr style=\"text-align: right;\">\n",
       "      <th></th>\n",
       "      <th>Unnamed: 0</th>\n",
       "      <th>PassengerId</th>\n",
       "      <th>Survived</th>\n",
       "      <th>Pclass</th>\n",
       "      <th>Name</th>\n",
       "      <th>Sex</th>\n",
       "      <th>SibSp</th>\n",
       "      <th>Parch</th>\n",
       "      <th>Ticket</th>\n",
       "      <th>Fare</th>\n",
       "      <th>Embarked</th>\n",
       "    </tr>\n",
       "  </thead>\n",
       "  <tbody>\n",
       "    <tr>\n",
       "      <th>count</th>\n",
       "      <td>889.000000</td>\n",
       "      <td>889.000000</td>\n",
       "      <td>889.000000</td>\n",
       "      <td>889.000000</td>\n",
       "      <td>889.000000</td>\n",
       "      <td>889.000000</td>\n",
       "      <td>889.000000</td>\n",
       "      <td>889.000000</td>\n",
       "      <td>889.000000</td>\n",
       "      <td>889.000000</td>\n",
       "      <td>889.000000</td>\n",
       "    </tr>\n",
       "    <tr>\n",
       "      <th>mean</th>\n",
       "      <td>445.000000</td>\n",
       "      <td>446.000000</td>\n",
       "      <td>0.382452</td>\n",
       "      <td>2.311586</td>\n",
       "      <td>444.000000</td>\n",
       "      <td>0.649044</td>\n",
       "      <td>0.524184</td>\n",
       "      <td>0.382452</td>\n",
       "      <td>338.262092</td>\n",
       "      <td>32.096681</td>\n",
       "      <td>1.535433</td>\n",
       "    </tr>\n",
       "    <tr>\n",
       "      <th>std</th>\n",
       "      <td>256.998173</td>\n",
       "      <td>256.998173</td>\n",
       "      <td>0.486260</td>\n",
       "      <td>0.834700</td>\n",
       "      <td>256.776492</td>\n",
       "      <td>0.477538</td>\n",
       "      <td>1.103705</td>\n",
       "      <td>0.806761</td>\n",
       "      <td>200.477425</td>\n",
       "      <td>49.697504</td>\n",
       "      <td>0.792088</td>\n",
       "    </tr>\n",
       "    <tr>\n",
       "      <th>min</th>\n",
       "      <td>0.000000</td>\n",
       "      <td>1.000000</td>\n",
       "      <td>0.000000</td>\n",
       "      <td>1.000000</td>\n",
       "      <td>0.000000</td>\n",
       "      <td>0.000000</td>\n",
       "      <td>0.000000</td>\n",
       "      <td>0.000000</td>\n",
       "      <td>0.000000</td>\n",
       "      <td>0.000000</td>\n",
       "      <td>0.000000</td>\n",
       "    </tr>\n",
       "    <tr>\n",
       "      <th>25%</th>\n",
       "      <td>223.000000</td>\n",
       "      <td>224.000000</td>\n",
       "      <td>0.000000</td>\n",
       "      <td>2.000000</td>\n",
       "      <td>222.000000</td>\n",
       "      <td>0.000000</td>\n",
       "      <td>0.000000</td>\n",
       "      <td>0.000000</td>\n",
       "      <td>159.000000</td>\n",
       "      <td>7.895800</td>\n",
       "      <td>1.000000</td>\n",
       "    </tr>\n",
       "    <tr>\n",
       "      <th>50%</th>\n",
       "      <td>445.000000</td>\n",
       "      <td>446.000000</td>\n",
       "      <td>0.000000</td>\n",
       "      <td>3.000000</td>\n",
       "      <td>444.000000</td>\n",
       "      <td>1.000000</td>\n",
       "      <td>0.000000</td>\n",
       "      <td>0.000000</td>\n",
       "      <td>336.000000</td>\n",
       "      <td>14.454200</td>\n",
       "      <td>2.000000</td>\n",
       "    </tr>\n",
       "    <tr>\n",
       "      <th>75%</th>\n",
       "      <td>667.000000</td>\n",
       "      <td>668.000000</td>\n",
       "      <td>1.000000</td>\n",
       "      <td>3.000000</td>\n",
       "      <td>666.000000</td>\n",
       "      <td>1.000000</td>\n",
       "      <td>1.000000</td>\n",
       "      <td>0.000000</td>\n",
       "      <td>519.000000</td>\n",
       "      <td>31.000000</td>\n",
       "      <td>2.000000</td>\n",
       "    </tr>\n",
       "    <tr>\n",
       "      <th>max</th>\n",
       "      <td>890.000000</td>\n",
       "      <td>891.000000</td>\n",
       "      <td>1.000000</td>\n",
       "      <td>3.000000</td>\n",
       "      <td>888.000000</td>\n",
       "      <td>1.000000</td>\n",
       "      <td>8.000000</td>\n",
       "      <td>6.000000</td>\n",
       "      <td>679.000000</td>\n",
       "      <td>512.329200</td>\n",
       "      <td>2.000000</td>\n",
       "    </tr>\n",
       "  </tbody>\n",
       "</table>\n",
       "</div>"
      ],
      "text/plain": [
       "       Unnamed: 0  PassengerId    Survived      Pclass        Name  \\\n",
       "count  889.000000   889.000000  889.000000  889.000000  889.000000   \n",
       "mean   445.000000   446.000000    0.382452    2.311586  444.000000   \n",
       "std    256.998173   256.998173    0.486260    0.834700  256.776492   \n",
       "min      0.000000     1.000000    0.000000    1.000000    0.000000   \n",
       "25%    223.000000   224.000000    0.000000    2.000000  222.000000   \n",
       "50%    445.000000   446.000000    0.000000    3.000000  444.000000   \n",
       "75%    667.000000   668.000000    1.000000    3.000000  666.000000   \n",
       "max    890.000000   891.000000    1.000000    3.000000  888.000000   \n",
       "\n",
       "              Sex       SibSp       Parch      Ticket        Fare    Embarked  \n",
       "count  889.000000  889.000000  889.000000  889.000000  889.000000  889.000000  \n",
       "mean     0.649044    0.524184    0.382452  338.262092   32.096681    1.535433  \n",
       "std      0.477538    1.103705    0.806761  200.477425   49.697504    0.792088  \n",
       "min      0.000000    0.000000    0.000000    0.000000    0.000000    0.000000  \n",
       "25%      0.000000    0.000000    0.000000  159.000000    7.895800    1.000000  \n",
       "50%      1.000000    0.000000    0.000000  336.000000   14.454200    2.000000  \n",
       "75%      1.000000    1.000000    0.000000  519.000000   31.000000    2.000000  \n",
       "max      1.000000    8.000000    6.000000  679.000000  512.329200    2.000000  "
      ]
     },
     "execution_count": 462,
     "metadata": {},
     "output_type": "execute_result"
    }
   ],
   "source": [
    "report.describe()"
   ]
  },
  {
   "cell_type": "code",
   "execution_count": 463,
   "id": "8d21e744",
   "metadata": {},
   "outputs": [
    {
     "data": {
      "text/plain": [
       "<AxesSubplot:>"
      ]
     },
     "execution_count": 463,
     "metadata": {},
     "output_type": "execute_result"
    },
    {
     "data": {
      "image/png": "[encoded data removed]",
      "text/plain": [
       "<Figure size 1080x504 with 2 Axes>"
      ]
     },
     "metadata": {
      "needs_background": "light"
     },
     "output_type": "display_data"
    }
   ],
   "source": [
    "plt.figure(figsize=(15,7))\n",
    "sns.heatmap(report.describe(), annot=True, linewidth=.5,linecolor='yellow')"
   ]
  },
  {
   "cell_type": "code",
   "execution_count": 464,
   "id": "2dee4fe7",
   "metadata": {},
   "outputs": [
    {
     "data": {
      "text/html": [
       "<div>\n",
       "<style scoped>\n",
       "    .dataframe tbody tr th:only-of-type {\n",
       "        vertical-align: middle;\n",
       "    }\n",
       "\n",
       "    .dataframe tbody tr th {\n",
       "        vertical-align: top;\n",
       "    }\n",
       "\n",
       "    .dataframe thead th {\n",
       "        text-align: right;\n",
       "    }\n",
       "</style>\n",
       "<table border=\"1\" class=\"dataframe\">\n",
       "  <thead>\n",
       "    <tr style=\"text-align: right;\">\n",
       "      <th></th>\n",
       "      <th>Unnamed: 0</th>\n",
       "      <th>PassengerId</th>\n",
       "      <th>Survived</th>\n",
       "      <th>Pclass</th>\n",
       "      <th>Name</th>\n",
       "      <th>Sex</th>\n",
       "      <th>SibSp</th>\n",
       "      <th>Parch</th>\n",
       "      <th>Ticket</th>\n",
       "      <th>Fare</th>\n",
       "      <th>Embarked</th>\n",
       "    </tr>\n",
       "  </thead>\n",
       "  <tbody>\n",
       "    <tr>\n",
       "      <th>Unnamed: 0</th>\n",
       "      <td>1.000000</td>\n",
       "      <td>1.000000</td>\n",
       "      <td>-0.005028</td>\n",
       "      <td>-0.035330</td>\n",
       "      <td>-0.041324</td>\n",
       "      <td>0.043136</td>\n",
       "      <td>-0.057686</td>\n",
       "      <td>-0.001657</td>\n",
       "      <td>-0.056852</td>\n",
       "      <td>0.012703</td>\n",
       "      <td>0.013166</td>\n",
       "    </tr>\n",
       "    <tr>\n",
       "      <th>PassengerId</th>\n",
       "      <td>1.000000</td>\n",
       "      <td>1.000000</td>\n",
       "      <td>-0.005028</td>\n",
       "      <td>-0.035330</td>\n",
       "      <td>-0.041324</td>\n",
       "      <td>0.043136</td>\n",
       "      <td>-0.057686</td>\n",
       "      <td>-0.001657</td>\n",
       "      <td>-0.056852</td>\n",
       "      <td>0.012703</td>\n",
       "      <td>0.013166</td>\n",
       "    </tr>\n",
       "    <tr>\n",
       "      <th>Survived</th>\n",
       "      <td>-0.005028</td>\n",
       "      <td>-0.005028</td>\n",
       "      <td>1.000000</td>\n",
       "      <td>-0.335549</td>\n",
       "      <td>-0.059075</td>\n",
       "      <td>-0.541585</td>\n",
       "      <td>-0.034040</td>\n",
       "      <td>0.083151</td>\n",
       "      <td>-0.160931</td>\n",
       "      <td>0.255290</td>\n",
       "      <td>-0.169718</td>\n",
       "    </tr>\n",
       "    <tr>\n",
       "      <th>Pclass</th>\n",
       "      <td>-0.035330</td>\n",
       "      <td>-0.035330</td>\n",
       "      <td>-0.335549</td>\n",
       "      <td>1.000000</td>\n",
       "      <td>0.054837</td>\n",
       "      <td>0.127741</td>\n",
       "      <td>0.081656</td>\n",
       "      <td>0.016824</td>\n",
       "      <td>0.315959</td>\n",
       "      <td>-0.548193</td>\n",
       "      <td>0.164681</td>\n",
       "    </tr>\n",
       "    <tr>\n",
       "      <th>Name</th>\n",
       "      <td>-0.041324</td>\n",
       "      <td>-0.041324</td>\n",
       "      <td>-0.059075</td>\n",
       "      <td>0.054837</td>\n",
       "      <td>1.000000</td>\n",
       "      <td>0.022087</td>\n",
       "      <td>-0.016558</td>\n",
       "      <td>-0.048533</td>\n",
       "      <td>0.049406</td>\n",
       "      <td>-0.050396</td>\n",
       "      <td>-0.006849</td>\n",
       "    </tr>\n",
       "    <tr>\n",
       "      <th>Sex</th>\n",
       "      <td>0.043136</td>\n",
       "      <td>0.043136</td>\n",
       "      <td>-0.541585</td>\n",
       "      <td>0.127741</td>\n",
       "      <td>0.022087</td>\n",
       "      <td>1.000000</td>\n",
       "      <td>-0.116348</td>\n",
       "      <td>-0.247508</td>\n",
       "      <td>0.055024</td>\n",
       "      <td>-0.179958</td>\n",
       "      <td>0.110320</td>\n",
       "    </tr>\n",
       "    <tr>\n",
       "      <th>SibSp</th>\n",
       "      <td>-0.057686</td>\n",
       "      <td>-0.057686</td>\n",
       "      <td>-0.034040</td>\n",
       "      <td>0.081656</td>\n",
       "      <td>-0.016558</td>\n",
       "      <td>-0.116348</td>\n",
       "      <td>1.000000</td>\n",
       "      <td>0.414542</td>\n",
       "      <td>0.077995</td>\n",
       "      <td>0.160887</td>\n",
       "      <td>0.068900</td>\n",
       "    </tr>\n",
       "    <tr>\n",
       "      <th>Parch</th>\n",
       "      <td>-0.001657</td>\n",
       "      <td>-0.001657</td>\n",
       "      <td>0.083151</td>\n",
       "      <td>0.016824</td>\n",
       "      <td>-0.048533</td>\n",
       "      <td>-0.247508</td>\n",
       "      <td>0.414542</td>\n",
       "      <td>1.000000</td>\n",
       "      <td>0.018409</td>\n",
       "      <td>0.217532</td>\n",
       "      <td>0.040449</td>\n",
       "    </tr>\n",
       "    <tr>\n",
       "      <th>Ticket</th>\n",
       "      <td>-0.056852</td>\n",
       "      <td>-0.056852</td>\n",
       "      <td>-0.160931</td>\n",
       "      <td>0.315959</td>\n",
       "      <td>0.049406</td>\n",
       "      <td>0.055024</td>\n",
       "      <td>0.077995</td>\n",
       "      <td>0.018409</td>\n",
       "      <td>1.000000</td>\n",
       "      <td>-0.010562</td>\n",
       "      <td>0.000271</td>\n",
       "    </tr>\n",
       "    <tr>\n",
       "      <th>Fare</th>\n",
       "      <td>0.012703</td>\n",
       "      <td>0.012703</td>\n",
       "      <td>0.255290</td>\n",
       "      <td>-0.548193</td>\n",
       "      <td>-0.050396</td>\n",
       "      <td>-0.179958</td>\n",
       "      <td>0.160887</td>\n",
       "      <td>0.217532</td>\n",
       "      <td>-0.010562</td>\n",
       "      <td>1.000000</td>\n",
       "      <td>-0.226311</td>\n",
       "    </tr>\n",
       "    <tr>\n",
       "      <th>Embarked</th>\n",
       "      <td>0.013166</td>\n",
       "      <td>0.013166</td>\n",
       "      <td>-0.169718</td>\n",
       "      <td>0.164681</td>\n",
       "      <td>-0.006849</td>\n",
       "      <td>0.110320</td>\n",
       "      <td>0.068900</td>\n",
       "      <td>0.040449</td>\n",
       "      <td>0.000271</td>\n",
       "      <td>-0.226311</td>\n",
       "      <td>1.000000</td>\n",
       "    </tr>\n",
       "  </tbody>\n",
       "</table>\n",
       "</div>"
      ],
      "text/plain": [
       "             Unnamed: 0  PassengerId  Survived    Pclass      Name       Sex  \\\n",
       "Unnamed: 0     1.000000     1.000000 -0.005028 -0.035330 -0.041324  0.043136   \n",
       "PassengerId    1.000000     1.000000 -0.005028 -0.035330 -0.041324  0.043136   \n",
       "Survived      -0.005028    -0.005028  1.000000 -0.335549 -0.059075 -0.541585   \n",
       "Pclass        -0.035330    -0.035330 -0.335549  1.000000  0.054837  0.127741   \n",
       "Name          -0.041324    -0.041324 -0.059075  0.054837  1.000000  0.022087   \n",
       "Sex            0.043136     0.043136 -0.541585  0.127741  0.022087  1.000000   \n",
       "SibSp         -0.057686    -0.057686 -0.034040  0.081656 -0.016558 -0.116348   \n",
       "Parch         -0.001657    -0.001657  0.083151  0.016824 -0.048533 -0.247508   \n",
       "Ticket        -0.056852    -0.056852 -0.160931  0.315959  0.049406  0.055024   \n",
       "Fare           0.012703     0.012703  0.255290 -0.548193 -0.050396 -0.179958   \n",
       "Embarked       0.013166     0.013166 -0.169718  0.164681 -0.006849  0.110320   \n",
       "\n",
       "                SibSp     Parch    Ticket      Fare  Embarked  \n",
       "Unnamed: 0  -0.057686 -0.001657 -0.056852  0.012703  0.013166  \n",
       "PassengerId -0.057686 -0.001657 -0.056852  0.012703  0.013166  \n",
       "Survived    -0.034040  0.083151 -0.160931  0.255290 -0.169718  \n",
       "Pclass       0.081656  0.016824  0.315959 -0.548193  0.164681  \n",
       "Name        -0.016558 -0.048533  0.049406 -0.050396 -0.006849  \n",
       "Sex         -0.116348 -0.247508  0.055024 -0.179958  0.110320  \n",
       "SibSp        1.000000  0.414542  0.077995  0.160887  0.068900  \n",
       "Parch        0.414542  1.000000  0.018409  0.217532  0.040449  \n",
       "Ticket       0.077995  0.018409  1.000000 -0.010562  0.000271  \n",
       "Fare         0.160887  0.217532 -0.010562  1.000000 -0.226311  \n",
       "Embarked     0.068900  0.040449  0.000271 -0.226311  1.000000  "
      ]
     },
     "execution_count": 464,
     "metadata": {},
     "output_type": "execute_result"
    }
   ],
   "source": [
    "report.corr()"
   ]
  },
  {
   "cell_type": "code",
   "execution_count": 465,
   "id": "c914e689",
   "metadata": {},
   "outputs": [
    {
     "data": {
      "text/plain": [
       "Sex           -0.541585\n",
       "Pclass        -0.335549\n",
       "Embarked      -0.169718\n",
       "Ticket        -0.160931\n",
       "Name          -0.059075\n",
       "SibSp         -0.034040\n",
       "Unnamed: 0    -0.005028\n",
       "PassengerId   -0.005028\n",
       "Parch          0.083151\n",
       "Fare           0.255290\n",
       "Survived       1.000000\n",
       "Name: Survived, dtype: float64"
      ]
     },
     "execution_count": 465,
     "metadata": {},
     "output_type": "execute_result"
    }
   ],
   "source": [
    "report.corr()['Survived'].sort_values()"
   ]
  },
  {
   "cell_type": "code",
   "execution_count": 466,
   "id": "d0cede66",
   "metadata": {},
   "outputs": [
    {
     "data": {
      "text/plain": [
       "<AxesSubplot:>"
      ]
     },
     "execution_count": 466,
     "metadata": {},
     "output_type": "execute_result"
    },
    {
     "data": {
      "image/png": "[encoded data removed]",
      "text/plain": [
       "<Figure size 1080x504 with 2 Axes>"
      ]
     },
     "metadata": {
      "needs_background": "light"
     },
     "output_type": "display_data"
    }
   ],
   "source": [
    "plt.figure(figsize=(15,7))\n",
    "sns.heatmap(report.corr(), annot=True, linewidth=1,linecolor='black')"
   ]
  },
  {
   "cell_type": "code",
   "execution_count": 467,
   "id": "851c4f91",
   "metadata": {},
   "outputs": [
    {
     "data": {
      "image/png": "[encoded data removed]",
      "text/plain": [
       "<Figure size 1152x1008 with 1 Axes>"
      ]
     },
     "metadata": {
      "needs_background": "light"
     },
     "output_type": "display_data"
    }
   ],
   "source": [
    "plt.figure(figsize=(16,14))\n",
    "report.corr()['Survived'].sort_values(ascending=False).drop(['Survived']).plot(kind='bar',color='black')\n",
    "plt.xlabel('Reason',fontsize=16)\n",
    "plt.ylabel('column with target names',fontsize=16)\n",
    "plt.title('correlation',fontsize=20)\n",
    "plt.show()"
   ]
  },
  {
   "cell_type": "code",
   "execution_count": 468,
   "id": "409fafaf",
   "metadata": {},
   "outputs": [
    {
     "data": {
      "image/png": "[encoded data removed]",
      "text/plain": [
       "<Figure size 288x1440 with 11 Axes>"
      ]
     },
     "metadata": {
      "needs_background": "light"
     },
     "output_type": "display_data"
    }
   ],
   "source": [
    "collist=report.columns.values\n",
    "ncol=3\n",
    "nrows=4\n",
    "plt.figure(figsize=(nrows,5*nrows))\n",
    "for i in range(0,len(collist)):\n",
    "    plt.subplot(nrows,ncol,i+1)\n",
    "    sns.boxplot(report[collist[i]])\n",
    "    plt.tight_layout()"
   ]
  },
  {
   "cell_type": "code",
   "execution_count": 469,
   "id": "6c7bbd0b",
   "metadata": {},
   "outputs": [
    {
     "data": {
      "text/plain": [
       "Embarked      -1.261367\n",
       "Pclass        -0.636998\n",
       "Sex           -0.625625\n",
       "Ticket        -0.000959\n",
       "Unnamed: 0     0.000000\n",
       "PassengerId    0.000000\n",
       "Name           0.000000\n",
       "Survived       0.484568\n",
       "Parch          2.745160\n",
       "SibSp          3.691058\n",
       "Fare           4.801440\n",
       "dtype: float64"
      ]
     },
     "execution_count": 469,
     "metadata": {},
     "output_type": "execute_result"
    }
   ],
   "source": [
    "#check skewness in data\n",
    "report.skew().sort_values()"
   ]
  },
  {
   "cell_type": "code",
   "execution_count": 470,
   "id": "f4d21d50",
   "metadata": {},
   "outputs": [
    {
     "data": {
      "image/png": "[encoded data removed]",
      "text/plain": [
       "<Figure size 432x2160 with 11 Axes>"
      ]
     },
     "metadata": {
      "needs_background": "light"
     },
     "output_type": "display_data"
    }
   ],
   "source": [
    "#distribution plot to check skewness\n",
    "collist=report.columns.values\n",
    "ncol=2\n",
    "nrows=6\n",
    "plt.figure(figsize=(nrows,5*nrows))\n",
    "for i in range(0,len(collist)):\n",
    "    plt.subplot(nrows,ncol,i+1)\n",
    "    sns.distplot(report[collist[i]])\n",
    "    plt.tight_layout()"
   ]
  },
  {
   "cell_type": "code",
   "execution_count": 471,
   "id": "eb8f3096",
   "metadata": {},
   "outputs": [
    {
     "data": {
      "text/plain": [
       "(889, 11)"
      ]
     },
     "execution_count": 471,
     "metadata": {},
     "output_type": "execute_result"
    }
   ],
   "source": [
    "#outliers removal\n",
    "report.shape"
   ]
  },
  {
   "cell_type": "code",
   "execution_count": 472,
   "id": "9943770a",
   "metadata": {},
   "outputs": [
    {
     "data": {
      "text/plain": [
       "(array([ 13,  16,  25,  27,  50,  59,  67,  70,  85,  87, 117, 118, 158,\n",
       "        163, 166, 170, 179, 181, 200, 232, 257, 260, 265, 277, 298, 310,\n",
       "        323, 340, 359, 376, 379, 385, 436, 437, 437, 479, 526, 540, 541,\n",
       "        556, 566, 609, 637, 677, 678, 682, 685, 688, 699, 715, 729, 735,\n",
       "        736, 741, 773, 778, 786, 791, 812, 823, 844, 848, 856, 861, 883]),\n",
       " array([7, 6, 7, 9, 6, 6, 6, 6, 7, 9, 9, 6, 6, 6, 7, 6, 6, 6, 6, 6, 9, 6,\n",
       "        6, 6, 9, 9, 6, 9, 7, 9, 9, 6, 7, 7, 9, 6, 9, 6, 6, 9, 7, 7, 7, 7,\n",
       "        9, 6, 6, 9, 9, 9, 9, 7, 9, 9, 7, 9, 6, 6, 6, 6, 6, 6, 7, 6, 7]))"
      ]
     },
     "execution_count": 472,
     "metadata": {},
     "output_type": "execute_result"
    }
   ],
   "source": [
    "from scipy.stats import zscore\n",
    "import numpy as np\n",
    "z=np.abs(zscore(report))\n",
    "threshold=3\n",
    "np.where(z>3)"
   ]
  },
  {
   "cell_type": "code",
   "execution_count": 473,
   "id": "798f1cb5",
   "metadata": {},
   "outputs": [
    {
     "data": {
      "text/plain": [
       "array([[False, False, False, ..., False, False, False],\n",
       "       [False, False, False, ..., False, False, False],\n",
       "       [False, False, False, ..., False, False, False],\n",
       "       ...,\n",
       "       [False, False, False, ..., False, False, False],\n",
       "       [False, False, False, ..., False, False, False],\n",
       "       [False, False, False, ..., False, False, False]])"
      ]
     },
     "execution_count": 473,
     "metadata": {},
     "output_type": "execute_result"
    }
   ],
   "source": [
    "np.abs(zscore(report))<0"
   ]
  },
  {
   "cell_type": "code",
   "execution_count": 474,
   "id": "27e7aa95",
   "metadata": {},
   "outputs": [
    {
     "data": {
      "text/html": [
       "<div>\n",
       "<style scoped>\n",
       "    .dataframe tbody tr th:only-of-type {\n",
       "        vertical-align: middle;\n",
       "    }\n",
       "\n",
       "    .dataframe tbody tr th {\n",
       "        vertical-align: top;\n",
       "    }\n",
       "\n",
       "    .dataframe thead th {\n",
       "        text-align: right;\n",
       "    }\n",
       "</style>\n",
       "<table border=\"1\" class=\"dataframe\">\n",
       "  <thead>\n",
       "    <tr style=\"text-align: right;\">\n",
       "      <th></th>\n",
       "      <th>Unnamed: 0</th>\n",
       "      <th>PassengerId</th>\n",
       "      <th>Survived</th>\n",
       "      <th>Pclass</th>\n",
       "      <th>Name</th>\n",
       "      <th>Sex</th>\n",
       "      <th>SibSp</th>\n",
       "      <th>Parch</th>\n",
       "      <th>Ticket</th>\n",
       "      <th>Fare</th>\n",
       "      <th>Embarked</th>\n",
       "    </tr>\n",
       "  </thead>\n",
       "  <tbody>\n",
       "    <tr>\n",
       "      <th>0</th>\n",
       "      <td>0</td>\n",
       "      <td>1</td>\n",
       "      <td>0</td>\n",
       "      <td>3</td>\n",
       "      <td>108.0</td>\n",
       "      <td>1.0</td>\n",
       "      <td>1</td>\n",
       "      <td>0</td>\n",
       "      <td>522.0</td>\n",
       "      <td>7.2500</td>\n",
       "      <td>2.0</td>\n",
       "    </tr>\n",
       "    <tr>\n",
       "      <th>1</th>\n",
       "      <td>1</td>\n",
       "      <td>2</td>\n",
       "      <td>1</td>\n",
       "      <td>1</td>\n",
       "      <td>190.0</td>\n",
       "      <td>0.0</td>\n",
       "      <td>1</td>\n",
       "      <td>0</td>\n",
       "      <td>595.0</td>\n",
       "      <td>71.2833</td>\n",
       "      <td>0.0</td>\n",
       "    </tr>\n",
       "    <tr>\n",
       "      <th>2</th>\n",
       "      <td>2</td>\n",
       "      <td>3</td>\n",
       "      <td>1</td>\n",
       "      <td>3</td>\n",
       "      <td>353.0</td>\n",
       "      <td>0.0</td>\n",
       "      <td>0</td>\n",
       "      <td>0</td>\n",
       "      <td>668.0</td>\n",
       "      <td>7.9250</td>\n",
       "      <td>2.0</td>\n",
       "    </tr>\n",
       "    <tr>\n",
       "      <th>3</th>\n",
       "      <td>3</td>\n",
       "      <td>4</td>\n",
       "      <td>1</td>\n",
       "      <td>1</td>\n",
       "      <td>272.0</td>\n",
       "      <td>0.0</td>\n",
       "      <td>1</td>\n",
       "      <td>0</td>\n",
       "      <td>48.0</td>\n",
       "      <td>53.1000</td>\n",
       "      <td>2.0</td>\n",
       "    </tr>\n",
       "    <tr>\n",
       "      <th>4</th>\n",
       "      <td>4</td>\n",
       "      <td>5</td>\n",
       "      <td>0</td>\n",
       "      <td>3</td>\n",
       "      <td>15.0</td>\n",
       "      <td>1.0</td>\n",
       "      <td>0</td>\n",
       "      <td>0</td>\n",
       "      <td>471.0</td>\n",
       "      <td>8.0500</td>\n",
       "      <td>2.0</td>\n",
       "    </tr>\n",
       "    <tr>\n",
       "      <th>...</th>\n",
       "      <td>...</td>\n",
       "      <td>...</td>\n",
       "      <td>...</td>\n",
       "      <td>...</td>\n",
       "      <td>...</td>\n",
       "      <td>...</td>\n",
       "      <td>...</td>\n",
       "      <td>...</td>\n",
       "      <td>...</td>\n",
       "      <td>...</td>\n",
       "      <td>...</td>\n",
       "    </tr>\n",
       "    <tr>\n",
       "      <th>886</th>\n",
       "      <td>886</td>\n",
       "      <td>887</td>\n",
       "      <td>0</td>\n",
       "      <td>2</td>\n",
       "      <td>547.0</td>\n",
       "      <td>1.0</td>\n",
       "      <td>0</td>\n",
       "      <td>0</td>\n",
       "      <td>100.0</td>\n",
       "      <td>13.0000</td>\n",
       "      <td>2.0</td>\n",
       "    </tr>\n",
       "    <tr>\n",
       "      <th>887</th>\n",
       "      <td>887</td>\n",
       "      <td>888</td>\n",
       "      <td>1</td>\n",
       "      <td>1</td>\n",
       "      <td>303.0</td>\n",
       "      <td>0.0</td>\n",
       "      <td>0</td>\n",
       "      <td>0</td>\n",
       "      <td>14.0</td>\n",
       "      <td>30.0000</td>\n",
       "      <td>2.0</td>\n",
       "    </tr>\n",
       "    <tr>\n",
       "      <th>888</th>\n",
       "      <td>888</td>\n",
       "      <td>889</td>\n",
       "      <td>0</td>\n",
       "      <td>3</td>\n",
       "      <td>412.0</td>\n",
       "      <td>0.0</td>\n",
       "      <td>1</td>\n",
       "      <td>2</td>\n",
       "      <td>674.0</td>\n",
       "      <td>23.4500</td>\n",
       "      <td>2.0</td>\n",
       "    </tr>\n",
       "    <tr>\n",
       "      <th>889</th>\n",
       "      <td>889</td>\n",
       "      <td>890</td>\n",
       "      <td>1</td>\n",
       "      <td>1</td>\n",
       "      <td>81.0</td>\n",
       "      <td>1.0</td>\n",
       "      <td>0</td>\n",
       "      <td>0</td>\n",
       "      <td>8.0</td>\n",
       "      <td>30.0000</td>\n",
       "      <td>0.0</td>\n",
       "    </tr>\n",
       "    <tr>\n",
       "      <th>890</th>\n",
       "      <td>890</td>\n",
       "      <td>891</td>\n",
       "      <td>0</td>\n",
       "      <td>3</td>\n",
       "      <td>220.0</td>\n",
       "      <td>1.0</td>\n",
       "      <td>0</td>\n",
       "      <td>0</td>\n",
       "      <td>465.0</td>\n",
       "      <td>7.7500</td>\n",
       "      <td>1.0</td>\n",
       "    </tr>\n",
       "  </tbody>\n",
       "</table>\n",
       "<p>825 rows × 11 columns</p>\n",
       "</div>"
      ],
      "text/plain": [
       "     Unnamed: 0  PassengerId  Survived  Pclass   Name  Sex  SibSp  Parch  \\\n",
       "0             0            1         0       3  108.0  1.0      1      0   \n",
       "1             1            2         1       1  190.0  0.0      1      0   \n",
       "2             2            3         1       3  353.0  0.0      0      0   \n",
       "3             3            4         1       1  272.0  0.0      1      0   \n",
       "4             4            5         0       3   15.0  1.0      0      0   \n",
       "..          ...          ...       ...     ...    ...  ...    ...    ...   \n",
       "886         886          887         0       2  547.0  1.0      0      0   \n",
       "887         887          888         1       1  303.0  0.0      0      0   \n",
       "888         888          889         0       3  412.0  0.0      1      2   \n",
       "889         889          890         1       1   81.0  1.0      0      0   \n",
       "890         890          891         0       3  220.0  1.0      0      0   \n",
       "\n",
       "     Ticket     Fare  Embarked  \n",
       "0     522.0   7.2500       2.0  \n",
       "1     595.0  71.2833       0.0  \n",
       "2     668.0   7.9250       2.0  \n",
       "3      48.0  53.1000       2.0  \n",
       "4     471.0   8.0500       2.0  \n",
       "..      ...      ...       ...  \n",
       "886   100.0  13.0000       2.0  \n",
       "887    14.0  30.0000       2.0  \n",
       "888   674.0  23.4500       2.0  \n",
       "889     8.0  30.0000       0.0  \n",
       "890   465.0   7.7500       1.0  \n",
       "\n",
       "[825 rows x 11 columns]"
      ]
     },
     "execution_count": 474,
     "metadata": {},
     "output_type": "execute_result"
    }
   ],
   "source": [
    "report_1=report[(z<3).all(axis=1)]\n",
    "report_1"
   ]
  },
  {
   "cell_type": "code",
   "execution_count": 475,
   "id": "8c6b863b",
   "metadata": {},
   "outputs": [
    {
     "data": {
      "text/plain": [
       "(825, 11)"
      ]
     },
     "execution_count": 475,
     "metadata": {},
     "output_type": "execute_result"
    }
   ],
   "source": [
    "report_1.shape"
   ]
  },
  {
   "cell_type": "code",
   "execution_count": 476,
   "id": "0fce6b60",
   "metadata": {},
   "outputs": [
    {
     "data": {
      "text/plain": [
       "7.19910011248594"
      ]
     },
     "execution_count": 476,
     "metadata": {},
     "output_type": "execute_result"
    }
   ],
   "source": [
    "#to know the percentage loss\n",
    "loss_data=((889-825)/889)*100\n",
    "loss_data"
   ]
  },
  {
   "cell_type": "code",
   "execution_count": 535,
   "id": "d2c5d51a",
   "metadata": {},
   "outputs": [],
   "source": [
    "X=report.drop('Survived',axis=1)\n",
    "Y=report['Survived']"
   ]
  },
  {
   "cell_type": "code",
   "execution_count": 578,
   "id": "e26095ab",
   "metadata": {},
   "outputs": [],
   "source": [
    "X_train,X_test,Y_train,Y_test=train_test_split(X,Y,random_state=821,test_size=0.25)\n"
   ]
  },
  {
   "cell_type": "code",
   "execution_count": 579,
   "id": "8bd46108",
   "metadata": {},
   "outputs": [
    {
     "data": {
      "text/plain": [
       "(666, 10)"
      ]
     },
     "execution_count": 579,
     "metadata": {},
     "output_type": "execute_result"
    }
   ],
   "source": [
    "X_train.shape"
   ]
  },
  {
   "cell_type": "code",
   "execution_count": 580,
   "id": "7ba3dcec",
   "metadata": {},
   "outputs": [
    {
     "data": {
      "text/plain": [
       "(223, 10)"
      ]
     },
     "execution_count": 580,
     "metadata": {},
     "output_type": "execute_result"
    }
   ],
   "source": [
    "X_test.shape"
   ]
  },
  {
   "cell_type": "code",
   "execution_count": 581,
   "id": "a0763326",
   "metadata": {
    "scrolled": true
   },
   "outputs": [
    {
     "data": {
      "text/html": [
       "<div>\n",
       "<style scoped>\n",
       "    .dataframe tbody tr th:only-of-type {\n",
       "        vertical-align: middle;\n",
       "    }\n",
       "\n",
       "    .dataframe tbody tr th {\n",
       "        vertical-align: top;\n",
       "    }\n",
       "\n",
       "    .dataframe thead th {\n",
       "        text-align: right;\n",
       "    }\n",
       "</style>\n",
       "<table border=\"1\" class=\"dataframe\">\n",
       "  <thead>\n",
       "    <tr style=\"text-align: right;\">\n",
       "      <th></th>\n",
       "      <th>Unnamed: 0</th>\n",
       "      <th>PassengerId</th>\n",
       "      <th>Pclass</th>\n",
       "      <th>Name</th>\n",
       "      <th>Sex</th>\n",
       "      <th>SibSp</th>\n",
       "      <th>Parch</th>\n",
       "      <th>Ticket</th>\n",
       "      <th>Fare</th>\n",
       "      <th>Embarked</th>\n",
       "    </tr>\n",
       "  </thead>\n",
       "  <tbody>\n",
       "    <tr>\n",
       "      <th>794</th>\n",
       "      <td>794</td>\n",
       "      <td>795</td>\n",
       "      <td>3</td>\n",
       "      <td>201.0</td>\n",
       "      <td>1.0</td>\n",
       "      <td>0</td>\n",
       "      <td>0</td>\n",
       "      <td>349.0</td>\n",
       "      <td>7.8958</td>\n",
       "      <td>2.0</td>\n",
       "    </tr>\n",
       "    <tr>\n",
       "      <th>86</th>\n",
       "      <td>86</td>\n",
       "      <td>87</td>\n",
       "      <td>3</td>\n",
       "      <td>255.0</td>\n",
       "      <td>1.0</td>\n",
       "      <td>1</td>\n",
       "      <td>3</td>\n",
       "      <td>675.0</td>\n",
       "      <td>34.3750</td>\n",
       "      <td>2.0</td>\n",
       "    </tr>\n",
       "    <tr>\n",
       "      <th>22</th>\n",
       "      <td>22</td>\n",
       "      <td>23</td>\n",
       "      <td>3</td>\n",
       "      <td>522.0</td>\n",
       "      <td>0.0</td>\n",
       "      <td>0</td>\n",
       "      <td>0</td>\n",
       "      <td>277.0</td>\n",
       "      <td>8.0292</td>\n",
       "      <td>1.0</td>\n",
       "    </tr>\n",
       "    <tr>\n",
       "      <th>202</th>\n",
       "      <td>202</td>\n",
       "      <td>203</td>\n",
       "      <td>3</td>\n",
       "      <td>402.0</td>\n",
       "      <td>1.0</td>\n",
       "      <td>0</td>\n",
       "      <td>0</td>\n",
       "      <td>241.0</td>\n",
       "      <td>6.4958</td>\n",
       "      <td>2.0</td>\n",
       "    </tr>\n",
       "    <tr>\n",
       "      <th>623</th>\n",
       "      <td>623</td>\n",
       "      <td>624</td>\n",
       "      <td>3</td>\n",
       "      <td>327.0</td>\n",
       "      <td>1.0</td>\n",
       "      <td>0</td>\n",
       "      <td>0</td>\n",
       "      <td>399.0</td>\n",
       "      <td>7.8542</td>\n",
       "      <td>2.0</td>\n",
       "    </tr>\n",
       "  </tbody>\n",
       "</table>\n",
       "</div>"
      ],
      "text/plain": [
       "     Unnamed: 0  PassengerId  Pclass   Name  Sex  SibSp  Parch  Ticket  \\\n",
       "794         794          795       3  201.0  1.0      0      0   349.0   \n",
       "86           86           87       3  255.0  1.0      1      3   675.0   \n",
       "22           22           23       3  522.0  0.0      0      0   277.0   \n",
       "202         202          203       3  402.0  1.0      0      0   241.0   \n",
       "623         623          624       3  327.0  1.0      0      0   399.0   \n",
       "\n",
       "        Fare  Embarked  \n",
       "794   7.8958       2.0  \n",
       "86   34.3750       2.0  \n",
       "22    8.0292       1.0  \n",
       "202   6.4958       2.0  \n",
       "623   7.8542       2.0  "
      ]
     },
     "execution_count": 581,
     "metadata": {},
     "output_type": "execute_result"
    }
   ],
   "source": [
    "X_train.head()"
   ]
  },
  {
   "cell_type": "code",
   "execution_count": 582,
   "id": "e9628c4b",
   "metadata": {},
   "outputs": [],
   "source": [
    "from sklearn.linear_model import LogisticRegression"
   ]
  },
  {
   "cell_type": "code",
   "execution_count": 583,
   "id": "2a847b89",
   "metadata": {},
   "outputs": [],
   "source": [
    "log_reg=LogisticRegression()\n"
   ]
  },
  {
   "cell_type": "code",
   "execution_count": 584,
   "id": "ef68babc",
   "metadata": {},
   "outputs": [
    {
     "data": {
      "text/plain": [
       "LogisticRegression()"
      ]
     },
     "execution_count": 584,
     "metadata": {},
     "output_type": "execute_result"
    }
   ],
   "source": [
    "log_reg.fit(X_train,Y_train)"
   ]
  },
  {
   "cell_type": "code",
   "execution_count": 585,
   "id": "11d5d25b",
   "metadata": {},
   "outputs": [],
   "source": [
    "predictions=log_reg.predict(X_test)"
   ]
  },
  {
   "cell_type": "code",
   "execution_count": 586,
   "id": "fd5ede60",
   "metadata": {},
   "outputs": [
    {
     "data": {
      "text/plain": [
       "array([1, 0, 0, 1, 0, 0, 1, 1, 0, 0, 1, 0, 0, 1, 1, 1, 1, 0, 0, 1, 0, 1,\n",
       "       0, 0, 0, 1, 1, 1, 0, 1, 0, 0, 0, 0, 0, 0, 1, 1, 0, 0, 1, 1, 0, 0,\n",
       "       0, 0, 0, 1, 0, 0, 0, 0, 0, 0, 0, 1, 0, 0, 0, 0, 1, 0, 0, 0, 1, 1,\n",
       "       0, 0, 0, 1, 1, 0, 0, 1, 0, 0, 0, 1, 1, 0, 0, 0, 0, 0, 0, 0, 1, 0,\n",
       "       1, 0, 0, 0, 0, 1, 0, 0, 0, 0, 0, 1, 0, 1, 0, 0, 0, 0, 1, 0, 0, 0,\n",
       "       0, 1, 0, 1, 0, 0, 1, 0, 0, 0, 1, 0, 1, 0, 0, 0, 1, 0, 0, 0, 0, 0,\n",
       "       1, 0, 0, 1, 0, 0, 1, 0, 0, 0, 1, 1, 0, 1, 0, 0, 1, 0, 1, 1, 1, 1,\n",
       "       0, 0, 1, 0, 0, 1, 0, 1, 0, 1, 1, 0, 0, 1, 0, 0, 0, 1, 0, 0, 1, 1,\n",
       "       0, 1, 0, 1, 1, 0, 0, 0, 1, 1, 0, 0, 1, 0, 1, 0, 1, 0, 0, 1, 0, 0,\n",
       "       1, 0, 0, 0, 0, 0, 0, 1, 1, 1, 0, 1, 0, 0, 0, 0, 1, 0, 1, 1, 0, 0,\n",
       "       0, 0, 1])"
      ]
     },
     "execution_count": 586,
     "metadata": {},
     "output_type": "execute_result"
    }
   ],
   "source": [
    "predictions"
   ]
  },
  {
   "cell_type": "code",
   "execution_count": 587,
   "id": "91020889",
   "metadata": {},
   "outputs": [
    {
     "name": "stdout",
     "output_type": "stream",
     "text": [
      "              precision    recall  f1-score   support\n",
      "\n",
      "           0       0.82      0.84      0.83       140\n",
      "           1       0.72      0.69      0.70        83\n",
      "\n",
      "    accuracy                           0.78       223\n",
      "   macro avg       0.77      0.76      0.77       223\n",
      "weighted avg       0.78      0.78      0.78       223\n",
      "\n"
     ]
    }
   ],
   "source": [
    "from sklearn.metrics import classification_report\n",
    "\n",
    "print(classification_report(Y_test,predictions))"
   ]
  },
  {
   "cell_type": "code",
   "execution_count": 588,
   "id": "85b3a278",
   "metadata": {},
   "outputs": [
    {
     "data": {
      "text/plain": [
       "0.7847533632286996"
      ]
     },
     "execution_count": 588,
     "metadata": {},
     "output_type": "execute_result"
    }
   ],
   "source": [
    "accuracy_score(predictions,Y_test)"
   ]
  },
  {
   "cell_type": "code",
   "execution_count": 593,
   "id": "15abbe58",
   "metadata": {
    "scrolled": true
   },
   "outputs": [
    {
     "name": "stdout",
     "output_type": "stream",
     "text": [
      "Best Accuracy is:- 0.8340807174887892 on random state 0\n",
      "Best Accuracy is:- 0.8340807174887892 on random state 0\n",
      "Best Accuracy is:- 0.8340807174887892 on random state 0\n",
      "Best Accuracy is:- 0.8340807174887892 on random state 0\n",
      "Best Accuracy is:- 0.8340807174887892 on random state 0\n",
      "Best Accuracy is:- 0.8340807174887892 on random state 0\n",
      "Best Accuracy is:- 0.8340807174887892 on random state 0\n",
      "Best Accuracy is:- 0.8340807174887892 on random state 0\n",
      "Best Accuracy is:- 0.8340807174887892 on random state 0\n",
      "Best Accuracy is:- 0.8340807174887892 on random state 0\n",
      "Best Accuracy is:- 0.8340807174887892 on random state 0\n",
      "Best Accuracy is:- 0.8340807174887892 on random state 0\n",
      "Best Accuracy is:- 0.8340807174887892 on random state 0\n",
      "Best Accuracy is:- 0.8340807174887892 on random state 0\n",
      "Best Accuracy is:- 0.8340807174887892 on random state 0\n",
      "Best Accuracy is:- 0.8340807174887892 on random state 0\n",
      "Best Accuracy is:- 0.8340807174887892 on random state 0\n",
      "Best Accuracy is:- 0.8340807174887892 on random state 0\n",
      "Best Accuracy is:- 0.8340807174887892 on random state 0\n",
      "Best Accuracy is:- 0.8340807174887892 on random state 0\n",
      "Best Accuracy is:- 0.8340807174887892 on random state 0\n",
      "Best Accuracy is:- 0.8340807174887892 on random state 0\n",
      "Best Accuracy is:- 0.8340807174887892 on random state 0\n",
      "Best Accuracy is:- 0.8340807174887892 on random state 0\n",
      "Best Accuracy is:- 0.8340807174887892 on random state 0\n",
      "Best Accuracy is:- 0.8340807174887892 on random state 0\n",
      "Best Accuracy is:- 0.8340807174887892 on random state 0\n",
      "Best Accuracy is:- 0.8340807174887892 on random state 0\n",
      "Best Accuracy is:- 0.8340807174887892 on random state 0\n",
      "Best Accuracy is:- 0.8340807174887892 on random state 0\n",
      "Best Accuracy is:- 0.8340807174887892 on random state 0\n",
      "Best Accuracy is:- 0.8340807174887892 on random state 0\n",
      "Best Accuracy is:- 0.8340807174887892 on random state 0\n",
      "Best Accuracy is:- 0.8340807174887892 on random state 0\n",
      "Best Accuracy is:- 0.8340807174887892 on random state 0\n",
      "Best Accuracy is:- 0.8340807174887892 on random state 0\n",
      "Best Accuracy is:- 0.8340807174887892 on random state 0\n",
      "Best Accuracy is:- 0.8340807174887892 on random state 0\n",
      "Best Accuracy is:- 0.8340807174887892 on random state 0\n",
      "Best Accuracy is:- 0.8340807174887892 on random state 0\n",
      "Best Accuracy is:- 0.8340807174887892 on random state 0\n",
      "Best Accuracy is:- 0.8340807174887892 on random state 0\n",
      "Best Accuracy is:- 0.8340807174887892 on random state 0\n",
      "Best Accuracy is:- 0.8340807174887892 on random state 0\n",
      "Best Accuracy is:- 0.8340807174887892 on random state 0\n",
      "Best Accuracy is:- 0.8340807174887892 on random state 0\n",
      "Best Accuracy is:- 0.8340807174887892 on random state 0\n",
      "Best Accuracy is:- 0.8340807174887892 on random state 0\n",
      "Best Accuracy is:- 0.8340807174887892 on random state 0\n",
      "Best Accuracy is:- 0.8340807174887892 on random state 0\n",
      "Best Accuracy is:- 0.8340807174887892 on random state 0\n",
      "Best Accuracy is:- 0.8340807174887892 on random state 0\n",
      "Best Accuracy is:- 0.8340807174887892 on random state 0\n",
      "Best Accuracy is:- 0.8340807174887892 on random state 0\n",
      "Best Accuracy is:- 0.8340807174887892 on random state 0\n",
      "Best Accuracy is:- 0.8340807174887892 on random state 0\n",
      "Best Accuracy is:- 0.8340807174887892 on random state 0\n",
      "Best Accuracy is:- 0.8340807174887892 on random state 0\n",
      "Best Accuracy is:- 0.8340807174887892 on random state 0\n",
      "Best Accuracy is:- 0.8340807174887892 on random state 0\n",
      "Best Accuracy is:- 0.8340807174887892 on random state 0\n",
      "Best Accuracy is:- 0.8340807174887892 on random state 0\n",
      "Best Accuracy is:- 0.8340807174887892 on random state 0\n",
      "Best Accuracy is:- 0.8340807174887892 on random state 0\n",
      "Best Accuracy is:- 0.8340807174887892 on random state 0\n",
      "Best Accuracy is:- 0.8340807174887892 on random state 0\n",
      "Best Accuracy is:- 0.8340807174887892 on random state 0\n",
      "Best Accuracy is:- 0.8340807174887892 on random state 0\n",
      "Best Accuracy is:- 0.8340807174887892 on random state 0\n",
      "Best Accuracy is:- 0.8340807174887892 on random state 0\n",
      "Best Accuracy is:- 0.8340807174887892 on random state 0\n",
      "Best Accuracy is:- 0.8340807174887892 on random state 0\n",
      "Best Accuracy is:- 0.8340807174887892 on random state 0\n",
      "Best Accuracy is:- 0.8340807174887892 on random state 0\n",
      "Best Accuracy is:- 0.8340807174887892 on random state 0\n",
      "Best Accuracy is:- 0.8340807174887892 on random state 0\n",
      "Best Accuracy is:- 0.8340807174887892 on random state 0\n",
      "Best Accuracy is:- 0.8340807174887892 on random state 0\n",
      "Best Accuracy is:- 0.8340807174887892 on random state 0\n",
      "Best Accuracy is:- 0.8340807174887892 on random state 0\n",
      "Best Accuracy is:- 0.8340807174887892 on random state 0\n",
      "Best Accuracy is:- 0.8340807174887892 on random state 0\n",
      "Best Accuracy is:- 0.8340807174887892 on random state 0\n",
      "Best Accuracy is:- 0.8340807174887892 on random state 0\n",
      "Best Accuracy is:- 0.8340807174887892 on random state 0\n",
      "Best Accuracy is:- 0.8340807174887892 on random state 0\n",
      "Best Accuracy is:- 0.8340807174887892 on random state 0\n",
      "Best Accuracy is:- 0.8340807174887892 on random state 0\n",
      "Best Accuracy is:- 0.8340807174887892 on random state 0\n",
      "Best Accuracy is:- 0.8340807174887892 on random state 0\n",
      "Best Accuracy is:- 0.8340807174887892 on random state 0\n",
      "Best Accuracy is:- 0.8340807174887892 on random state 0\n",
      "Best Accuracy is:- 0.8340807174887892 on random state 0\n",
      "Best Accuracy is:- 0.8340807174887892 on random state 0\n",
      "Best Accuracy is:- 0.8340807174887892 on random state 0\n",
      "Best Accuracy is:- 0.8340807174887892 on random state 0\n",
      "Best Accuracy is:- 0.8340807174887892 on random state 0\n",
      "Best Accuracy is:- 0.8340807174887892 on random state 0\n",
      "Best Accuracy is:- 0.8340807174887892 on random state 0\n",
      "Best Accuracy is:- 0.8340807174887892 on random state 0\n",
      "Best Accuracy is:- 0.8340807174887892 on random state 0\n",
      "Best Accuracy is:- 0.8340807174887892 on random state 0\n",
      "Best Accuracy is:- 0.8340807174887892 on random state 0\n",
      "Best Accuracy is:- 0.8340807174887892 on random state 0\n",
      "Best Accuracy is:- 0.8340807174887892 on random state 0\n",
      "Best Accuracy is:- 0.8340807174887892 on random state 0\n",
      "Best Accuracy is:- 0.8340807174887892 on random state 0\n",
      "Best Accuracy is:- 0.8340807174887892 on random state 0\n",
      "Best Accuracy is:- 0.8340807174887892 on random state 0\n",
      "Best Accuracy is:- 0.8340807174887892 on random state 0\n",
      "Best Accuracy is:- 0.8340807174887892 on random state 0\n",
      "Best Accuracy is:- 0.8340807174887892 on random state 0\n",
      "Best Accuracy is:- 0.8340807174887892 on random state 0\n",
      "Best Accuracy is:- 0.8340807174887892 on random state 0\n",
      "Best Accuracy is:- 0.8340807174887892 on random state 0\n",
      "Best Accuracy is:- 0.8340807174887892 on random state 0\n",
      "Best Accuracy is:- 0.8340807174887892 on random state 0\n",
      "Best Accuracy is:- 0.8340807174887892 on random state 0\n",
      "Best Accuracy is:- 0.8340807174887892 on random state 0\n",
      "Best Accuracy is:- 0.8340807174887892 on random state 0\n",
      "Best Accuracy is:- 0.8340807174887892 on random state 0\n",
      "Best Accuracy is:- 0.8340807174887892 on random state 0\n",
      "Best Accuracy is:- 0.8340807174887892 on random state 0\n",
      "Best Accuracy is:- 0.8340807174887892 on random state 0\n",
      "Best Accuracy is:- 0.8340807174887892 on random state 0\n",
      "Best Accuracy is:- 0.8340807174887892 on random state 0\n",
      "Best Accuracy is:- 0.8340807174887892 on random state 0\n",
      "Best Accuracy is:- 0.8340807174887892 on random state 0\n",
      "Best Accuracy is:- 0.8340807174887892 on random state 0\n",
      "Best Accuracy is:- 0.8340807174887892 on random state 0\n",
      "Best Accuracy is:- 0.8340807174887892 on random state 0\n",
      "Best Accuracy is:- 0.8340807174887892 on random state 0\n",
      "Best Accuracy is:- 0.8340807174887892 on random state 0\n",
      "Best Accuracy is:- 0.8340807174887892 on random state 0\n",
      "Best Accuracy is:- 0.8340807174887892 on random state 0\n",
      "Best Accuracy is:- 0.8340807174887892 on random state 0\n",
      "Best Accuracy is:- 0.8340807174887892 on random state 0\n",
      "Best Accuracy is:- 0.8340807174887892 on random state 0\n",
      "Best Accuracy is:- 0.8340807174887892 on random state 0\n",
      "Best Accuracy is:- 0.8340807174887892 on random state 0\n",
      "Best Accuracy is:- 0.8340807174887892 on random state 0\n",
      "Best Accuracy is:- 0.8340807174887892 on random state 0\n",
      "Best Accuracy is:- 0.8340807174887892 on random state 0\n",
      "Best Accuracy is:- 0.8340807174887892 on random state 0\n",
      "Best Accuracy is:- 0.8340807174887892 on random state 0\n",
      "Best Accuracy is:- 0.8340807174887892 on random state 0\n",
      "Best Accuracy is:- 0.8340807174887892 on random state 0\n",
      "Best Accuracy is:- 0.8340807174887892 on random state 0\n",
      "Best Accuracy is:- 0.8340807174887892 on random state 0\n",
      "Best Accuracy is:- 0.8340807174887892 on random state 0\n",
      "Best Accuracy is:- 0.8340807174887892 on random state 0\n",
      "Best Accuracy is:- 0.8340807174887892 on random state 0\n",
      "Best Accuracy is:- 0.8340807174887892 on random state 0\n",
      "Best Accuracy is:- 0.8340807174887892 on random state 0\n",
      "Best Accuracy is:- 0.8340807174887892 on random state 0\n",
      "Best Accuracy is:- 0.8340807174887892 on random state 0\n",
      "Best Accuracy is:- 0.8340807174887892 on random state 0\n",
      "Best Accuracy is:- 0.8340807174887892 on random state 0\n",
      "Best Accuracy is:- 0.8340807174887892 on random state 0\n",
      "Best Accuracy is:- 0.8340807174887892 on random state 0\n",
      "Best Accuracy is:- 0.8340807174887892 on random state 0\n",
      "Best Accuracy is:- 0.8340807174887892 on random state 0\n",
      "Best Accuracy is:- 0.8340807174887892 on random state 0\n",
      "Best Accuracy is:- 0.8340807174887892 on random state 0\n",
      "Best Accuracy is:- 0.8340807174887892 on random state 0\n",
      "Best Accuracy is:- 0.8340807174887892 on random state 0\n",
      "Best Accuracy is:- 0.8340807174887892 on random state 0\n",
      "Best Accuracy is:- 0.8340807174887892 on random state 0\n",
      "Best Accuracy is:- 0.8340807174887892 on random state 0\n",
      "Best Accuracy is:- 0.8340807174887892 on random state 0\n",
      "Best Accuracy is:- 0.8340807174887892 on random state 0\n",
      "Best Accuracy is:- 0.8340807174887892 on random state 0\n",
      "Best Accuracy is:- 0.8340807174887892 on random state 0\n",
      "Best Accuracy is:- 0.8340807174887892 on random state 0\n",
      "Best Accuracy is:- 0.8340807174887892 on random state 0\n",
      "Best Accuracy is:- 0.8340807174887892 on random state 0\n",
      "Best Accuracy is:- 0.8340807174887892 on random state 0\n",
      "Best Accuracy is:- 0.8340807174887892 on random state 0\n",
      "Best Accuracy is:- 0.8340807174887892 on random state 0\n",
      "Best Accuracy is:- 0.8340807174887892 on random state 0\n",
      "Best Accuracy is:- 0.8340807174887892 on random state 0\n",
      "Best Accuracy is:- 0.8340807174887892 on random state 0\n",
      "Best Accuracy is:- 0.8340807174887892 on random state 0\n",
      "Best Accuracy is:- 0.8340807174887892 on random state 0\n",
      "Best Accuracy is:- 0.8340807174887892 on random state 0\n",
      "Best Accuracy is:- 0.8340807174887892 on random state 0\n",
      "Best Accuracy is:- 0.8340807174887892 on random state 0\n",
      "Best Accuracy is:- 0.8340807174887892 on random state 0\n",
      "Best Accuracy is:- 0.8340807174887892 on random state 0\n",
      "Best Accuracy is:- 0.8340807174887892 on random state 0\n",
      "Best Accuracy is:- 0.8340807174887892 on random state 0\n",
      "Best Accuracy is:- 0.8340807174887892 on random state 0\n",
      "Best Accuracy is:- 0.8340807174887892 on random state 0\n",
      "Best Accuracy is:- 0.8340807174887892 on random state 0\n",
      "Best Accuracy is:- 0.8340807174887892 on random state 0\n",
      "Best Accuracy is:- 0.8340807174887892 on random state 0\n",
      "Best Accuracy is:- 0.8340807174887892 on random state 0\n",
      "Best Accuracy is:- 0.8340807174887892 on random state 0\n",
      "Best Accuracy is:- 0.8340807174887892 on random state 0\n",
      "Best Accuracy is:- 0.8340807174887892 on random state 0\n",
      "Best Accuracy is:- 0.8340807174887892 on random state 0\n",
      "Best Accuracy is:- 0.8340807174887892 on random state 0\n",
      "Best Accuracy is:- 0.8340807174887892 on random state 0\n",
      "Best Accuracy is:- 0.8340807174887892 on random state 0\n",
      "Best Accuracy is:- 0.8340807174887892 on random state 0\n",
      "Best Accuracy is:- 0.8340807174887892 on random state 0\n",
      "Best Accuracy is:- 0.8340807174887892 on random state 0\n",
      "Best Accuracy is:- 0.8340807174887892 on random state 0\n",
      "Best Accuracy is:- 0.8340807174887892 on random state 0\n",
      "Best Accuracy is:- 0.8340807174887892 on random state 0\n",
      "Best Accuracy is:- 0.8340807174887892 on random state 0\n",
      "Best Accuracy is:- 0.8340807174887892 on random state 0\n",
      "Best Accuracy is:- 0.8340807174887892 on random state 0\n",
      "Best Accuracy is:- 0.8340807174887892 on random state 0\n",
      "Best Accuracy is:- 0.8340807174887892 on random state 0\n",
      "Best Accuracy is:- 0.8340807174887892 on random state 0\n",
      "Best Accuracy is:- 0.8340807174887892 on random state 0\n",
      "Best Accuracy is:- 0.8340807174887892 on random state 0\n",
      "Best Accuracy is:- 0.8340807174887892 on random state 0\n",
      "Best Accuracy is:- 0.8340807174887892 on random state 0\n",
      "Best Accuracy is:- 0.8340807174887892 on random state 0\n",
      "Best Accuracy is:- 0.8340807174887892 on random state 0\n",
      "Best Accuracy is:- 0.8340807174887892 on random state 0\n",
      "Best Accuracy is:- 0.8340807174887892 on random state 0\n",
      "Best Accuracy is:- 0.8340807174887892 on random state 0\n",
      "Best Accuracy is:- 0.8340807174887892 on random state 0\n",
      "Best Accuracy is:- 0.8340807174887892 on random state 0\n",
      "Best Accuracy is:- 0.8340807174887892 on random state 0\n",
      "Best Accuracy is:- 0.8340807174887892 on random state 0\n",
      "Best Accuracy is:- 0.8340807174887892 on random state 0\n",
      "Best Accuracy is:- 0.8340807174887892 on random state 0\n",
      "Best Accuracy is:- 0.8340807174887892 on random state 0\n",
      "Best Accuracy is:- 0.8340807174887892 on random state 0\n",
      "Best Accuracy is:- 0.8340807174887892 on random state 0\n",
      "Best Accuracy is:- 0.8340807174887892 on random state 0\n",
      "Best Accuracy is:- 0.8340807174887892 on random state 0\n",
      "Best Accuracy is:- 0.8340807174887892 on random state 0\n",
      "Best Accuracy is:- 0.8340807174887892 on random state 0\n",
      "Best Accuracy is:- 0.8340807174887892 on random state 0\n",
      "Best Accuracy is:- 0.8340807174887892 on random state 0\n",
      "Best Accuracy is:- 0.8340807174887892 on random state 0\n",
      "Best Accuracy is:- 0.8340807174887892 on random state 0\n",
      "Best Accuracy is:- 0.8340807174887892 on random state 0\n",
      "Best Accuracy is:- 0.8340807174887892 on random state 0\n",
      "Best Accuracy is:- 0.8340807174887892 on random state 0\n",
      "Best Accuracy is:- 0.8340807174887892 on random state 0\n",
      "Best Accuracy is:- 0.8340807174887892 on random state 0\n",
      "Best Accuracy is:- 0.8340807174887892 on random state 0\n",
      "Best Accuracy is:- 0.8340807174887892 on random state 0\n",
      "Best Accuracy is:- 0.8340807174887892 on random state 0\n",
      "Best Accuracy is:- 0.8340807174887892 on random state 0\n",
      "Best Accuracy is:- 0.8340807174887892 on random state 0\n",
      "Best Accuracy is:- 0.8340807174887892 on random state 0\n",
      "Best Accuracy is:- 0.8340807174887892 on random state 0\n",
      "Best Accuracy is:- 0.8340807174887892 on random state 0\n",
      "Best Accuracy is:- 0.8340807174887892 on random state 0\n",
      "Best Accuracy is:- 0.8340807174887892 on random state 0\n",
      "Best Accuracy is:- 0.8340807174887892 on random state 0\n",
      "Best Accuracy is:- 0.8340807174887892 on random state 0\n",
      "Best Accuracy is:- 0.8340807174887892 on random state 0\n",
      "Best Accuracy is:- 0.8340807174887892 on random state 0\n",
      "Best Accuracy is:- 0.8340807174887892 on random state 0\n",
      "Best Accuracy is:- 0.8340807174887892 on random state 0\n",
      "Best Accuracy is:- 0.8340807174887892 on random state 0\n",
      "Best Accuracy is:- 0.8340807174887892 on random state 0\n",
      "Best Accuracy is:- 0.8340807174887892 on random state 0\n",
      "Best Accuracy is:- 0.8340807174887892 on random state 0\n",
      "Best Accuracy is:- 0.8340807174887892 on random state 0\n",
      "Best Accuracy is:- 0.8340807174887892 on random state 0\n",
      "Best Accuracy is:- 0.8340807174887892 on random state 0\n",
      "Best Accuracy is:- 0.8340807174887892 on random state 0\n",
      "Best Accuracy is:- 0.8340807174887892 on random state 0\n",
      "Best Accuracy is:- 0.8340807174887892 on random state 0\n",
      "Best Accuracy is:- 0.8340807174887892 on random state 0\n",
      "Best Accuracy is:- 0.8340807174887892 on random state 0\n",
      "Best Accuracy is:- 0.8340807174887892 on random state 0\n",
      "Best Accuracy is:- 0.8340807174887892 on random state 0\n",
      "Best Accuracy is:- 0.8340807174887892 on random state 0\n",
      "Best Accuracy is:- 0.8340807174887892 on random state 0\n",
      "Best Accuracy is:- 0.8340807174887892 on random state 0\n",
      "Best Accuracy is:- 0.8340807174887892 on random state 0\n",
      "Best Accuracy is:- 0.8340807174887892 on random state 0\n",
      "Best Accuracy is:- 0.8340807174887892 on random state 0\n",
      "Best Accuracy is:- 0.8340807174887892 on random state 0\n",
      "Best Accuracy is:- 0.8340807174887892 on random state 0\n",
      "Best Accuracy is:- 0.8340807174887892 on random state 0\n",
      "Best Accuracy is:- 0.8340807174887892 on random state 0\n",
      "Best Accuracy is:- 0.8340807174887892 on random state 0\n",
      "Best Accuracy is:- 0.8340807174887892 on random state 0\n",
      "Best Accuracy is:- 0.8340807174887892 on random state 0\n",
      "Best Accuracy is:- 0.8340807174887892 on random state 0\n",
      "Best Accuracy is:- 0.8340807174887892 on random state 0\n",
      "Best Accuracy is:- 0.8340807174887892 on random state 0\n",
      "Best Accuracy is:- 0.8340807174887892 on random state 0\n",
      "Best Accuracy is:- 0.8340807174887892 on random state 0\n",
      "Best Accuracy is:- 0.8340807174887892 on random state 0\n",
      "Best Accuracy is:- 0.8340807174887892 on random state 0\n",
      "Best Accuracy is:- 0.8340807174887892 on random state 0\n",
      "Best Accuracy is:- 0.8340807174887892 on random state 0\n",
      "Best Accuracy is:- 0.8340807174887892 on random state 0\n",
      "Best Accuracy is:- 0.8340807174887892 on random state 0\n",
      "Best Accuracy is:- 0.8340807174887892 on random state 0\n",
      "Best Accuracy is:- 0.8340807174887892 on random state 0\n",
      "Best Accuracy is:- 0.8340807174887892 on random state 0\n",
      "Best Accuracy is:- 0.8340807174887892 on random state 0\n",
      "Best Accuracy is:- 0.8340807174887892 on random state 0\n",
      "Best Accuracy is:- 0.8340807174887892 on random state 0\n",
      "Best Accuracy is:- 0.8340807174887892 on random state 0\n",
      "Best Accuracy is:- 0.8340807174887892 on random state 0\n",
      "Best Accuracy is:- 0.8340807174887892 on random state 0\n",
      "Best Accuracy is:- 0.8340807174887892 on random state 0\n",
      "Best Accuracy is:- 0.8340807174887892 on random state 0\n",
      "Best Accuracy is:- 0.8340807174887892 on random state 0\n",
      "Best Accuracy is:- 0.8340807174887892 on random state 0\n",
      "Best Accuracy is:- 0.8340807174887892 on random state 0\n",
      "Best Accuracy is:- 0.8340807174887892 on random state 0\n",
      "Best Accuracy is:- 0.8340807174887892 on random state 0\n",
      "Best Accuracy is:- 0.8340807174887892 on random state 0\n",
      "Best Accuracy is:- 0.8340807174887892 on random state 0\n",
      "Best Accuracy is:- 0.8340807174887892 on random state 0\n",
      "Best Accuracy is:- 0.8340807174887892 on random state 0\n",
      "Best Accuracy is:- 0.8340807174887892 on random state 0\n",
      "Best Accuracy is:- 0.8340807174887892 on random state 0\n",
      "Best Accuracy is:- 0.8340807174887892 on random state 0\n",
      "Best Accuracy is:- 0.8340807174887892 on random state 0\n",
      "Best Accuracy is:- 0.8340807174887892 on random state 0\n",
      "Best Accuracy is:- 0.8340807174887892 on random state 0\n",
      "Best Accuracy is:- 0.8340807174887892 on random state 0\n",
      "Best Accuracy is:- 0.8340807174887892 on random state 0\n",
      "Best Accuracy is:- 0.8340807174887892 on random state 0\n",
      "Best Accuracy is:- 0.8340807174887892 on random state 0\n",
      "Best Accuracy is:- 0.8340807174887892 on random state 0\n",
      "Best Accuracy is:- 0.8340807174887892 on random state 0\n",
      "Best Accuracy is:- 0.8340807174887892 on random state 0\n",
      "Best Accuracy is:- 0.8340807174887892 on random state 0\n",
      "Best Accuracy is:- 0.8340807174887892 on random state 0\n",
      "Best Accuracy is:- 0.8340807174887892 on random state 0\n",
      "Best Accuracy is:- 0.8340807174887892 on random state 0\n",
      "Best Accuracy is:- 0.8340807174887892 on random state 0\n",
      "Best Accuracy is:- 0.8340807174887892 on random state 0\n",
      "Best Accuracy is:- 0.8340807174887892 on random state 0\n",
      "Best Accuracy is:- 0.8340807174887892 on random state 0\n",
      "Best Accuracy is:- 0.8340807174887892 on random state 0\n",
      "Best Accuracy is:- 0.8340807174887892 on random state 0\n",
      "Best Accuracy is:- 0.8340807174887892 on random state 0\n",
      "Best Accuracy is:- 0.8340807174887892 on random state 0\n",
      "Best Accuracy is:- 0.8340807174887892 on random state 0\n",
      "Best Accuracy is:- 0.8340807174887892 on random state 0\n",
      "Best Accuracy is:- 0.8340807174887892 on random state 0\n",
      "Best Accuracy is:- 0.8340807174887892 on random state 0\n",
      "Best Accuracy is:- 0.8340807174887892 on random state 0\n",
      "Best Accuracy is:- 0.8340807174887892 on random state 0\n",
      "Best Accuracy is:- 0.8340807174887892 on random state 0\n",
      "Best Accuracy is:- 0.8340807174887892 on random state 0\n",
      "Best Accuracy is:- 0.8340807174887892 on random state 0\n",
      "Best Accuracy is:- 0.8340807174887892 on random state 0\n",
      "Best Accuracy is:- 0.8340807174887892 on random state 0\n",
      "Best Accuracy is:- 0.8340807174887892 on random state 0\n",
      "Best Accuracy is:- 0.8340807174887892 on random state 0\n",
      "Best Accuracy is:- 0.8340807174887892 on random state 0\n",
      "Best Accuracy is:- 0.8340807174887892 on random state 0\n",
      "Best Accuracy is:- 0.8340807174887892 on random state 0\n",
      "Best Accuracy is:- 0.8340807174887892 on random state 0\n",
      "Best Accuracy is:- 0.8340807174887892 on random state 0\n",
      "Best Accuracy is:- 0.8340807174887892 on random state 0\n",
      "Best Accuracy is:- 0.8340807174887892 on random state 0\n",
      "Best Accuracy is:- 0.8340807174887892 on random state 0\n",
      "Best Accuracy is:- 0.8340807174887892 on random state 0\n",
      "Best Accuracy is:- 0.8340807174887892 on random state 0\n",
      "Best Accuracy is:- 0.8340807174887892 on random state 0\n",
      "Best Accuracy is:- 0.8340807174887892 on random state 0\n",
      "Best Accuracy is:- 0.8340807174887892 on random state 0\n",
      "Best Accuracy is:- 0.8340807174887892 on random state 0\n",
      "Best Accuracy is:- 0.8340807174887892 on random state 0\n",
      "Best Accuracy is:- 0.8340807174887892 on random state 0\n",
      "Best Accuracy is:- 0.8340807174887892 on random state 0\n",
      "Best Accuracy is:- 0.8340807174887892 on random state 0\n",
      "Best Accuracy is:- 0.8340807174887892 on random state 0\n",
      "Best Accuracy is:- 0.8340807174887892 on random state 0\n",
      "Best Accuracy is:- 0.8340807174887892 on random state 0\n",
      "Best Accuracy is:- 0.8340807174887892 on random state 0\n",
      "Best Accuracy is:- 0.8340807174887892 on random state 0\n",
      "Best Accuracy is:- 0.8340807174887892 on random state 0\n",
      "Best Accuracy is:- 0.8340807174887892 on random state 0\n",
      "Best Accuracy is:- 0.8340807174887892 on random state 0\n",
      "Best Accuracy is:- 0.8340807174887892 on random state 0\n",
      "Best Accuracy is:- 0.8340807174887892 on random state 0\n",
      "Best Accuracy is:- 0.8340807174887892 on random state 0\n",
      "Best Accuracy is:- 0.8340807174887892 on random state 0\n",
      "Best Accuracy is:- 0.8340807174887892 on random state 0\n",
      "Best Accuracy is:- 0.8340807174887892 on random state 0\n",
      "Best Accuracy is:- 0.8340807174887892 on random state 0\n",
      "Best Accuracy is:- 0.8340807174887892 on random state 0\n",
      "Best Accuracy is:- 0.8340807174887892 on random state 0\n",
      "Best Accuracy is:- 0.8340807174887892 on random state 0\n",
      "Best Accuracy is:- 0.8340807174887892 on random state 0\n",
      "Best Accuracy is:- 0.8340807174887892 on random state 0\n",
      "Best Accuracy is:- 0.8340807174887892 on random state 0\n",
      "Best Accuracy is:- 0.8340807174887892 on random state 0\n",
      "Best Accuracy is:- 0.8340807174887892 on random state 0\n",
      "Best Accuracy is:- 0.8340807174887892 on random state 0\n",
      "Best Accuracy is:- 0.8340807174887892 on random state 0\n",
      "Best Accuracy is:- 0.8340807174887892 on random state 0\n",
      "Best Accuracy is:- 0.8340807174887892 on random state 0\n",
      "Best Accuracy is:- 0.8340807174887892 on random state 0\n",
      "Best Accuracy is:- 0.8340807174887892 on random state 0\n",
      "Best Accuracy is:- 0.8340807174887892 on random state 0\n",
      "Best Accuracy is:- 0.8340807174887892 on random state 0\n",
      "Best Accuracy is:- 0.8340807174887892 on random state 0\n",
      "Best Accuracy is:- 0.8340807174887892 on random state 0\n",
      "Best Accuracy is:- 0.8340807174887892 on random state 0\n",
      "Best Accuracy is:- 0.8340807174887892 on random state 0\n",
      "Best Accuracy is:- 0.8340807174887892 on random state 0\n",
      "Best Accuracy is:- 0.8340807174887892 on random state 0\n",
      "Best Accuracy is:- 0.8340807174887892 on random state 0\n",
      "Best Accuracy is:- 0.8340807174887892 on random state 0\n",
      "Best Accuracy is:- 0.8340807174887892 on random state 0\n",
      "Best Accuracy is:- 0.8340807174887892 on random state 0\n",
      "Best Accuracy is:- 0.8340807174887892 on random state 0\n",
      "Best Accuracy is:- 0.8340807174887892 on random state 0\n",
      "Best Accuracy is:- 0.8340807174887892 on random state 0\n",
      "Best Accuracy is:- 0.8340807174887892 on random state 0\n",
      "Best Accuracy is:- 0.8340807174887892 on random state 0\n",
      "Best Accuracy is:- 0.8340807174887892 on random state 0\n",
      "Best Accuracy is:- 0.8340807174887892 on random state 0\n",
      "Best Accuracy is:- 0.8340807174887892 on random state 0\n",
      "Best Accuracy is:- 0.8340807174887892 on random state 0\n",
      "Best Accuracy is:- 0.8340807174887892 on random state 0\n",
      "Best Accuracy is:- 0.8340807174887892 on random state 0\n",
      "Best Accuracy is:- 0.8340807174887892 on random state 0\n",
      "Best Accuracy is:- 0.8340807174887892 on random state 0\n",
      "Best Accuracy is:- 0.8340807174887892 on random state 0\n",
      "Best Accuracy is:- 0.8340807174887892 on random state 0\n",
      "Best Accuracy is:- 0.8340807174887892 on random state 0\n",
      "Best Accuracy is:- 0.8340807174887892 on random state 0\n",
      "Best Accuracy is:- 0.8340807174887892 on random state 0\n",
      "Best Accuracy is:- 0.8340807174887892 on random state 0\n",
      "Best Accuracy is:- 0.8340807174887892 on random state 0\n",
      "Best Accuracy is:- 0.8340807174887892 on random state 0\n",
      "Best Accuracy is:- 0.8340807174887892 on random state 0\n",
      "Best Accuracy is:- 0.8340807174887892 on random state 0\n",
      "Best Accuracy is:- 0.8340807174887892 on random state 0\n",
      "Best Accuracy is:- 0.8340807174887892 on random state 0\n",
      "Best Accuracy is:- 0.8340807174887892 on random state 0\n",
      "Best Accuracy is:- 0.8340807174887892 on random state 0\n",
      "Best Accuracy is:- 0.8340807174887892 on random state 0\n",
      "Best Accuracy is:- 0.8340807174887892 on random state 0\n",
      "Best Accuracy is:- 0.8340807174887892 on random state 0\n",
      "Best Accuracy is:- 0.8340807174887892 on random state 0\n",
      "Best Accuracy is:- 0.8340807174887892 on random state 0\n",
      "Best Accuracy is:- 0.8340807174887892 on random state 0\n",
      "Best Accuracy is:- 0.8340807174887892 on random state 0\n",
      "Best Accuracy is:- 0.8340807174887892 on random state 0\n",
      "Best Accuracy is:- 0.8340807174887892 on random state 0\n",
      "Best Accuracy is:- 0.8340807174887892 on random state 0\n",
      "Best Accuracy is:- 0.8340807174887892 on random state 0\n",
      "Best Accuracy is:- 0.8340807174887892 on random state 0\n",
      "Best Accuracy is:- 0.8340807174887892 on random state 0\n",
      "Best Accuracy is:- 0.8340807174887892 on random state 0\n",
      "Best Accuracy is:- 0.8340807174887892 on random state 0\n",
      "Best Accuracy is:- 0.8340807174887892 on random state 0\n",
      "Best Accuracy is:- 0.8340807174887892 on random state 0\n",
      "Best Accuracy is:- 0.8340807174887892 on random state 0\n",
      "Best Accuracy is:- 0.8340807174887892 on random state 0\n",
      "Best Accuracy is:- 0.8340807174887892 on random state 0\n",
      "Best Accuracy is:- 0.8340807174887892 on random state 0\n",
      "Best Accuracy is:- 0.8340807174887892 on random state 0\n",
      "Best Accuracy is:- 0.8340807174887892 on random state 0\n",
      "Best Accuracy is:- 0.8340807174887892 on random state 0\n",
      "Best Accuracy is:- 0.8340807174887892 on random state 0\n",
      "Best Accuracy is:- 0.8340807174887892 on random state 0\n",
      "Best Accuracy is:- 0.8340807174887892 on random state 0\n",
      "Best Accuracy is:- 0.8340807174887892 on random state 0\n",
      "Best Accuracy is:- 0.8340807174887892 on random state 0\n",
      "Best Accuracy is:- 0.8340807174887892 on random state 0\n",
      "Best Accuracy is:- 0.8340807174887892 on random state 0\n",
      "Best Accuracy is:- 0.8340807174887892 on random state 0\n",
      "Best Accuracy is:- 0.8340807174887892 on random state 0\n",
      "Best Accuracy is:- 0.8340807174887892 on random state 0\n",
      "Best Accuracy is:- 0.8340807174887892 on random state 0\n",
      "Best Accuracy is:- 0.8340807174887892 on random state 0\n",
      "Best Accuracy is:- 0.8340807174887892 on random state 0\n",
      "Best Accuracy is:- 0.8340807174887892 on random state 0\n",
      "Best Accuracy is:- 0.8340807174887892 on random state 0\n",
      "Best Accuracy is:- 0.8340807174887892 on random state 0\n",
      "Best Accuracy is:- 0.8340807174887892 on random state 0\n",
      "Best Accuracy is:- 0.8340807174887892 on random state 0\n",
      "Best Accuracy is:- 0.8340807174887892 on random state 0\n",
      "Best Accuracy is:- 0.8340807174887892 on random state 0\n",
      "Best Accuracy is:- 0.8340807174887892 on random state 0\n",
      "Best Accuracy is:- 0.8340807174887892 on random state 0\n",
      "Best Accuracy is:- 0.8340807174887892 on random state 0\n",
      "Best Accuracy is:- 0.8340807174887892 on random state 0\n",
      "Best Accuracy is:- 0.8340807174887892 on random state 0\n",
      "Best Accuracy is:- 0.8340807174887892 on random state 0\n",
      "Best Accuracy is:- 0.8340807174887892 on random state 0\n",
      "Best Accuracy is:- 0.8340807174887892 on random state 0\n",
      "Best Accuracy is:- 0.8340807174887892 on random state 0\n",
      "Best Accuracy is:- 0.8340807174887892 on random state 0\n",
      "Best Accuracy is:- 0.8340807174887892 on random state 0\n",
      "Best Accuracy is:- 0.8340807174887892 on random state 0\n",
      "Best Accuracy is:- 0.8340807174887892 on random state 0\n",
      "Best Accuracy is:- 0.8340807174887892 on random state 0\n",
      "Best Accuracy is:- 0.8340807174887892 on random state 0\n",
      "Best Accuracy is:- 0.8340807174887892 on random state 0\n",
      "Best Accuracy is:- 0.8340807174887892 on random state 0\n",
      "Best Accuracy is:- 0.8340807174887892 on random state 0\n",
      "Best Accuracy is:- 0.8340807174887892 on random state 0\n",
      "Best Accuracy is:- 0.8340807174887892 on random state 0\n",
      "Best Accuracy is:- 0.8340807174887892 on random state 0\n",
      "Best Accuracy is:- 0.8340807174887892 on random state 0\n",
      "Best Accuracy is:- 0.8340807174887892 on random state 0\n",
      "Best Accuracy is:- 0.8340807174887892 on random state 0\n",
      "Best Accuracy is:- 0.8340807174887892 on random state 0\n",
      "Best Accuracy is:- 0.8340807174887892 on random state 0\n",
      "Best Accuracy is:- 0.8340807174887892 on random state 0\n",
      "Best Accuracy is:- 0.8340807174887892 on random state 0\n",
      "Best Accuracy is:- 0.8340807174887892 on random state 0\n",
      "Best Accuracy is:- 0.8340807174887892 on random state 0\n",
      "Best Accuracy is:- 0.8340807174887892 on random state 0\n",
      "Best Accuracy is:- 0.8340807174887892 on random state 0\n",
      "Best Accuracy is:- 0.8340807174887892 on random state 0\n",
      "Best Accuracy is:- 0.8340807174887892 on random state 0\n",
      "Best Accuracy is:- 0.8340807174887892 on random state 0\n",
      "Best Accuracy is:- 0.8340807174887892 on random state 0\n",
      "Best Accuracy is:- 0.8340807174887892 on random state 0\n",
      "Best Accuracy is:- 0.8340807174887892 on random state 0\n",
      "Best Accuracy is:- 0.8340807174887892 on random state 0\n",
      "Best Accuracy is:- 0.8340807174887892 on random state 0\n",
      "Best Accuracy is:- 0.8340807174887892 on random state 0\n",
      "Best Accuracy is:- 0.8340807174887892 on random state 0\n",
      "Best Accuracy is:- 0.8340807174887892 on random state 0\n",
      "Best Accuracy is:- 0.8340807174887892 on random state 0\n",
      "Best Accuracy is:- 0.8340807174887892 on random state 0\n",
      "Best Accuracy is:- 0.8340807174887892 on random state 0\n",
      "Best Accuracy is:- 0.8340807174887892 on random state 0\n",
      "Best Accuracy is:- 0.8340807174887892 on random state 0\n",
      "Best Accuracy is:- 0.8340807174887892 on random state 0\n",
      "Best Accuracy is:- 0.8340807174887892 on random state 0\n",
      "Best Accuracy is:- 0.8340807174887892 on random state 0\n",
      "Best Accuracy is:- 0.8340807174887892 on random state 0\n",
      "Best Accuracy is:- 0.8340807174887892 on random state 0\n",
      "Best Accuracy is:- 0.8340807174887892 on random state 0\n",
      "Best Accuracy is:- 0.8340807174887892 on random state 0\n",
      "Best Accuracy is:- 0.8340807174887892 on random state 0\n",
      "Best Accuracy is:- 0.8340807174887892 on random state 0\n",
      "Best Accuracy is:- 0.8340807174887892 on random state 0\n",
      "Best Accuracy is:- 0.8340807174887892 on random state 0\n",
      "Best Accuracy is:- 0.8340807174887892 on random state 0\n",
      "Best Accuracy is:- 0.8340807174887892 on random state 0\n",
      "Best Accuracy is:- 0.8340807174887892 on random state 0\n",
      "Best Accuracy is:- 0.8340807174887892 on random state 0\n",
      "Best Accuracy is:- 0.8340807174887892 on random state 0\n",
      "Best Accuracy is:- 0.8340807174887892 on random state 0\n",
      "Best Accuracy is:- 0.8340807174887892 on random state 0\n",
      "Best Accuracy is:- 0.8340807174887892 on random state 0\n",
      "Best Accuracy is:- 0.8340807174887892 on random state 0\n",
      "Best Accuracy is:- 0.8340807174887892 on random state 0\n",
      "Best Accuracy is:- 0.8340807174887892 on random state 0\n",
      "Best Accuracy is:- 0.8340807174887892 on random state 0\n",
      "Best Accuracy is:- 0.8340807174887892 on random state 0\n",
      "Best Accuracy is:- 0.8340807174887892 on random state 0\n",
      "Best Accuracy is:- 0.8340807174887892 on random state 0\n",
      "Best Accuracy is:- 0.8340807174887892 on random state 0\n",
      "Best Accuracy is:- 0.8340807174887892 on random state 0\n",
      "Best Accuracy is:- 0.8340807174887892 on random state 0\n",
      "Best Accuracy is:- 0.8340807174887892 on random state 0\n",
      "Best Accuracy is:- 0.8340807174887892 on random state 0\n",
      "Best Accuracy is:- 0.8340807174887892 on random state 0\n",
      "Best Accuracy is:- 0.8340807174887892 on random state 0\n",
      "Best Accuracy is:- 0.8340807174887892 on random state 0\n",
      "Best Accuracy is:- 0.8340807174887892 on random state 0\n",
      "Best Accuracy is:- 0.8340807174887892 on random state 0\n",
      "Best Accuracy is:- 0.8340807174887892 on random state 0\n",
      "Best Accuracy is:- 0.8340807174887892 on random state 0\n",
      "Best Accuracy is:- 0.8340807174887892 on random state 0\n",
      "Best Accuracy is:- 0.8340807174887892 on random state 0\n",
      "Best Accuracy is:- 0.8340807174887892 on random state 0\n",
      "Best Accuracy is:- 0.8340807174887892 on random state 0\n",
      "Best Accuracy is:- 0.8340807174887892 on random state 0\n",
      "Best Accuracy is:- 0.8340807174887892 on random state 0\n",
      "Best Accuracy is:- 0.8340807174887892 on random state 0\n",
      "Best Accuracy is:- 0.8340807174887892 on random state 0\n",
      "Best Accuracy is:- 0.8340807174887892 on random state 0\n",
      "Best Accuracy is:- 0.8340807174887892 on random state 0\n",
      "Best Accuracy is:- 0.8340807174887892 on random state 0\n",
      "Best Accuracy is:- 0.8340807174887892 on random state 0\n",
      "Best Accuracy is:- 0.8340807174887892 on random state 0\n",
      "Best Accuracy is:- 0.8340807174887892 on random state 0\n",
      "Best Accuracy is:- 0.8340807174887892 on random state 0\n",
      "Best Accuracy is:- 0.8340807174887892 on random state 0\n",
      "Best Accuracy is:- 0.8340807174887892 on random state 0\n",
      "Best Accuracy is:- 0.8340807174887892 on random state 0\n",
      "Best Accuracy is:- 0.8340807174887892 on random state 0\n",
      "Best Accuracy is:- 0.8340807174887892 on random state 0\n",
      "Best Accuracy is:- 0.8340807174887892 on random state 0\n",
      "Best Accuracy is:- 0.8340807174887892 on random state 0\n",
      "Best Accuracy is:- 0.8340807174887892 on random state 0\n",
      "Best Accuracy is:- 0.8340807174887892 on random state 0\n",
      "Best Accuracy is:- 0.8340807174887892 on random state 0\n",
      "Best Accuracy is:- 0.8340807174887892 on random state 0\n",
      "Best Accuracy is:- 0.8340807174887892 on random state 0\n",
      "Best Accuracy is:- 0.8340807174887892 on random state 0\n",
      "Best Accuracy is:- 0.8340807174887892 on random state 0\n",
      "Best Accuracy is:- 0.8340807174887892 on random state 0\n",
      "Best Accuracy is:- 0.8340807174887892 on random state 0\n",
      "Best Accuracy is:- 0.8340807174887892 on random state 0\n",
      "Best Accuracy is:- 0.8340807174887892 on random state 0\n",
      "Best Accuracy is:- 0.8340807174887892 on random state 0\n",
      "Best Accuracy is:- 0.8340807174887892 on random state 0\n",
      "Best Accuracy is:- 0.8340807174887892 on random state 0\n",
      "Best Accuracy is:- 0.8340807174887892 on random state 0\n",
      "Best Accuracy is:- 0.8340807174887892 on random state 0\n",
      "Best Accuracy is:- 0.8340807174887892 on random state 0\n",
      "Best Accuracy is:- 0.8340807174887892 on random state 0\n",
      "Best Accuracy is:- 0.8340807174887892 on random state 0\n",
      "Best Accuracy is:- 0.8340807174887892 on random state 0\n",
      "Best Accuracy is:- 0.8340807174887892 on random state 0\n",
      "Best Accuracy is:- 0.8340807174887892 on random state 0\n",
      "Best Accuracy is:- 0.8340807174887892 on random state 0\n",
      "Best Accuracy is:- 0.8340807174887892 on random state 0\n",
      "Best Accuracy is:- 0.8340807174887892 on random state 0\n",
      "Best Accuracy is:- 0.8340807174887892 on random state 0\n",
      "Best Accuracy is:- 0.8340807174887892 on random state 0\n",
      "Best Accuracy is:- 0.8340807174887892 on random state 0\n",
      "Best Accuracy is:- 0.8340807174887892 on random state 0\n",
      "Best Accuracy is:- 0.8340807174887892 on random state 0\n",
      "Best Accuracy is:- 0.8340807174887892 on random state 0\n",
      "Best Accuracy is:- 0.8340807174887892 on random state 0\n",
      "Best Accuracy is:- 0.8340807174887892 on random state 0\n",
      "Best Accuracy is:- 0.8340807174887892 on random state 0\n",
      "Best Accuracy is:- 0.8340807174887892 on random state 0\n",
      "Best Accuracy is:- 0.8340807174887892 on random state 0\n",
      "Best Accuracy is:- 0.8340807174887892 on random state 0\n",
      "Best Accuracy is:- 0.8340807174887892 on random state 0\n",
      "Best Accuracy is:- 0.8340807174887892 on random state 0\n",
      "Best Accuracy is:- 0.8340807174887892 on random state 0\n",
      "Best Accuracy is:- 0.8340807174887892 on random state 0\n",
      "Best Accuracy is:- 0.8340807174887892 on random state 0\n",
      "Best Accuracy is:- 0.8340807174887892 on random state 0\n",
      "Best Accuracy is:- 0.8340807174887892 on random state 0\n",
      "Best Accuracy is:- 0.8340807174887892 on random state 0\n",
      "Best Accuracy is:- 0.8340807174887892 on random state 0\n",
      "Best Accuracy is:- 0.8340807174887892 on random state 0\n",
      "Best Accuracy is:- 0.8340807174887892 on random state 0\n",
      "Best Accuracy is:- 0.8340807174887892 on random state 0\n",
      "Best Accuracy is:- 0.8340807174887892 on random state 0\n",
      "Best Accuracy is:- 0.8340807174887892 on random state 0\n",
      "Best Accuracy is:- 0.8340807174887892 on random state 0\n",
      "Best Accuracy is:- 0.8340807174887892 on random state 0\n",
      "Best Accuracy is:- 0.8340807174887892 on random state 0\n",
      "Best Accuracy is:- 0.8340807174887892 on random state 0\n",
      "Best Accuracy is:- 0.8340807174887892 on random state 0\n",
      "Best Accuracy is:- 0.8340807174887892 on random state 0\n",
      "Best Accuracy is:- 0.8340807174887892 on random state 0\n",
      "Best Accuracy is:- 0.8340807174887892 on random state 0\n",
      "Best Accuracy is:- 0.8340807174887892 on random state 0\n",
      "Best Accuracy is:- 0.8340807174887892 on random state 0\n",
      "Best Accuracy is:- 0.8340807174887892 on random state 0\n",
      "Best Accuracy is:- 0.8340807174887892 on random state 0\n",
      "Best Accuracy is:- 0.8340807174887892 on random state 0\n",
      "Best Accuracy is:- 0.8340807174887892 on random state 0\n",
      "Best Accuracy is:- 0.8340807174887892 on random state 0\n",
      "Best Accuracy is:- 0.8340807174887892 on random state 0\n",
      "Best Accuracy is:- 0.8340807174887892 on random state 0\n",
      "Best Accuracy is:- 0.8340807174887892 on random state 0\n",
      "Best Accuracy is:- 0.8340807174887892 on random state 0\n",
      "Best Accuracy is:- 0.8340807174887892 on random state 0\n",
      "Best Accuracy is:- 0.8340807174887892 on random state 0\n",
      "Best Accuracy is:- 0.8340807174887892 on random state 0\n",
      "Best Accuracy is:- 0.8340807174887892 on random state 0\n",
      "Best Accuracy is:- 0.8340807174887892 on random state 0\n",
      "Best Accuracy is:- 0.8340807174887892 on random state 0\n",
      "Best Accuracy is:- 0.8340807174887892 on random state 0\n",
      "Best Accuracy is:- 0.8340807174887892 on random state 0\n",
      "Best Accuracy is:- 0.8340807174887892 on random state 0\n",
      "Best Accuracy is:- 0.8340807174887892 on random state 0\n",
      "Best Accuracy is:- 0.8340807174887892 on random state 0\n",
      "Best Accuracy is:- 0.8340807174887892 on random state 0\n",
      "Best Accuracy is:- 0.8340807174887892 on random state 0\n",
      "Best Accuracy is:- 0.8340807174887892 on random state 0\n",
      "Best Accuracy is:- 0.8340807174887892 on random state 0\n",
      "Best Accuracy is:- 0.8340807174887892 on random state 0\n",
      "Best Accuracy is:- 0.8340807174887892 on random state 0\n",
      "Best Accuracy is:- 0.8340807174887892 on random state 0\n",
      "Best Accuracy is:- 0.8340807174887892 on random state 0\n",
      "Best Accuracy is:- 0.8340807174887892 on random state 0\n",
      "Best Accuracy is:- 0.8340807174887892 on random state 0\n",
      "Best Accuracy is:- 0.8340807174887892 on random state 0\n",
      "Best Accuracy is:- 0.8340807174887892 on random state 0\n",
      "Best Accuracy is:- 0.8340807174887892 on random state 0\n",
      "Best Accuracy is:- 0.8340807174887892 on random state 0\n",
      "Best Accuracy is:- 0.8340807174887892 on random state 0\n",
      "Best Accuracy is:- 0.8340807174887892 on random state 0\n",
      "Best Accuracy is:- 0.8340807174887892 on random state 0\n",
      "Best Accuracy is:- 0.8340807174887892 on random state 0\n",
      "Best Accuracy is:- 0.8340807174887892 on random state 0\n",
      "Best Accuracy is:- 0.8340807174887892 on random state 0\n",
      "Best Accuracy is:- 0.8340807174887892 on random state 0\n",
      "Best Accuracy is:- 0.8340807174887892 on random state 0\n",
      "Best Accuracy is:- 0.8340807174887892 on random state 0\n",
      "Best Accuracy is:- 0.8340807174887892 on random state 0\n",
      "Best Accuracy is:- 0.8340807174887892 on random state 0\n",
      "Best Accuracy is:- 0.8340807174887892 on random state 0\n",
      "Best Accuracy is:- 0.8340807174887892 on random state 0\n",
      "Best Accuracy is:- 0.8340807174887892 on random state 0\n",
      "Best Accuracy is:- 0.8340807174887892 on random state 0\n",
      "Best Accuracy is:- 0.8340807174887892 on random state 0\n",
      "Best Accuracy is:- 0.8340807174887892 on random state 0\n",
      "Best Accuracy is:- 0.8340807174887892 on random state 0\n",
      "Best Accuracy is:- 0.8340807174887892 on random state 0\n",
      "Best Accuracy is:- 0.8340807174887892 on random state 0\n",
      "Best Accuracy is:- 0.8340807174887892 on random state 0\n",
      "Best Accuracy is:- 0.8340807174887892 on random state 0\n",
      "Best Accuracy is:- 0.8340807174887892 on random state 0\n",
      "Best Accuracy is:- 0.8340807174887892 on random state 0\n",
      "Best Accuracy is:- 0.8340807174887892 on random state 0\n",
      "Best Accuracy is:- 0.8340807174887892 on random state 0\n",
      "Best Accuracy is:- 0.8340807174887892 on random state 0\n",
      "Best Accuracy is:- 0.8340807174887892 on random state 0\n",
      "Best Accuracy is:- 0.8340807174887892 on random state 0\n",
      "Best Accuracy is:- 0.8340807174887892 on random state 0\n",
      "Best Accuracy is:- 0.8340807174887892 on random state 0\n",
      "Best Accuracy is:- 0.8340807174887892 on random state 0\n",
      "Best Accuracy is:- 0.8340807174887892 on random state 0\n",
      "Best Accuracy is:- 0.8340807174887892 on random state 0\n",
      "Best Accuracy is:- 0.8340807174887892 on random state 0\n",
      "Best Accuracy is:- 0.8340807174887892 on random state 0\n",
      "Best Accuracy is:- 0.8340807174887892 on random state 0\n",
      "Best Accuracy is:- 0.8340807174887892 on random state 0\n",
      "Best Accuracy is:- 0.8340807174887892 on random state 0\n",
      "Best Accuracy is:- 0.8340807174887892 on random state 0\n",
      "Best Accuracy is:- 0.8340807174887892 on random state 0\n",
      "Best Accuracy is:- 0.8340807174887892 on random state 0\n",
      "Best Accuracy is:- 0.8340807174887892 on random state 0\n",
      "Best Accuracy is:- 0.8340807174887892 on random state 0\n",
      "Best Accuracy is:- 0.8340807174887892 on random state 0\n",
      "Best Accuracy is:- 0.8340807174887892 on random state 0\n",
      "Best Accuracy is:- 0.8340807174887892 on random state 0\n",
      "Best Accuracy is:- 0.8340807174887892 on random state 0\n",
      "Best Accuracy is:- 0.8340807174887892 on random state 0\n",
      "Best Accuracy is:- 0.8340807174887892 on random state 0\n",
      "Best Accuracy is:- 0.8340807174887892 on random state 0\n",
      "Best Accuracy is:- 0.8340807174887892 on random state 0\n",
      "Best Accuracy is:- 0.8340807174887892 on random state 0\n",
      "Best Accuracy is:- 0.8340807174887892 on random state 0\n",
      "Best Accuracy is:- 0.8340807174887892 on random state 0\n",
      "Best Accuracy is:- 0.8340807174887892 on random state 0\n",
      "Best Accuracy is:- 0.8340807174887892 on random state 0\n",
      "Best Accuracy is:- 0.8340807174887892 on random state 0\n",
      "Best Accuracy is:- 0.8340807174887892 on random state 0\n",
      "Best Accuracy is:- 0.8340807174887892 on random state 0\n",
      "Best Accuracy is:- 0.8340807174887892 on random state 0\n",
      "Best Accuracy is:- 0.8340807174887892 on random state 0\n",
      "Best Accuracy is:- 0.8340807174887892 on random state 0\n",
      "Best Accuracy is:- 0.8340807174887892 on random state 0\n",
      "Best Accuracy is:- 0.8340807174887892 on random state 0\n",
      "Best Accuracy is:- 0.8340807174887892 on random state 0\n",
      "Best Accuracy is:- 0.8340807174887892 on random state 0\n",
      "Best Accuracy is:- 0.8340807174887892 on random state 0\n",
      "Best Accuracy is:- 0.8340807174887892 on random state 0\n",
      "Best Accuracy is:- 0.8340807174887892 on random state 0\n",
      "Best Accuracy is:- 0.8340807174887892 on random state 0\n",
      "Best Accuracy is:- 0.8340807174887892 on random state 0\n",
      "Best Accuracy is:- 0.8340807174887892 on random state 0\n",
      "Best Accuracy is:- 0.8340807174887892 on random state 0\n",
      "Best Accuracy is:- 0.8340807174887892 on random state 0\n",
      "Best Accuracy is:- 0.8340807174887892 on random state 0\n",
      "Best Accuracy is:- 0.8340807174887892 on random state 0\n",
      "Best Accuracy is:- 0.8340807174887892 on random state 0\n",
      "Best Accuracy is:- 0.8340807174887892 on random state 0\n",
      "Best Accuracy is:- 0.8340807174887892 on random state 0\n",
      "Best Accuracy is:- 0.8340807174887892 on random state 0\n",
      "Best Accuracy is:- 0.8340807174887892 on random state 0\n",
      "Best Accuracy is:- 0.8340807174887892 on random state 0\n",
      "Best Accuracy is:- 0.8340807174887892 on random state 0\n",
      "Best Accuracy is:- 0.8340807174887892 on random state 0\n",
      "Best Accuracy is:- 0.8340807174887892 on random state 0\n",
      "Best Accuracy is:- 0.8340807174887892 on random state 0\n",
      "Best Accuracy is:- 0.8340807174887892 on random state 0\n",
      "Best Accuracy is:- 0.8340807174887892 on random state 0\n",
      "Best Accuracy is:- 0.8340807174887892 on random state 0\n",
      "Best Accuracy is:- 0.8340807174887892 on random state 0\n",
      "Best Accuracy is:- 0.8340807174887892 on random state 0\n",
      "Best Accuracy is:- 0.8340807174887892 on random state 0\n",
      "Best Accuracy is:- 0.8340807174887892 on random state 0\n",
      "Best Accuracy is:- 0.8340807174887892 on random state 0\n",
      "Best Accuracy is:- 0.8340807174887892 on random state 0\n",
      "Best Accuracy is:- 0.8340807174887892 on random state 0\n",
      "Best Accuracy is:- 0.8340807174887892 on random state 0\n",
      "Best Accuracy is:- 0.8340807174887892 on random state 0\n",
      "Best Accuracy is:- 0.8340807174887892 on random state 0\n",
      "Best Accuracy is:- 0.8340807174887892 on random state 0\n",
      "Best Accuracy is:- 0.8340807174887892 on random state 0\n",
      "Best Accuracy is:- 0.8340807174887892 on random state 0\n",
      "Best Accuracy is:- 0.8340807174887892 on random state 0\n",
      "Best Accuracy is:- 0.8340807174887892 on random state 0\n",
      "Best Accuracy is:- 0.8340807174887892 on random state 0\n",
      "Best Accuracy is:- 0.8340807174887892 on random state 0\n",
      "Best Accuracy is:- 0.8340807174887892 on random state 0\n",
      "Best Accuracy is:- 0.8340807174887892 on random state 0\n",
      "Best Accuracy is:- 0.8340807174887892 on random state 0\n",
      "Best Accuracy is:- 0.8340807174887892 on random state 0\n",
      "Best Accuracy is:- 0.8340807174887892 on random state 0\n",
      "Best Accuracy is:- 0.8340807174887892 on random state 0\n",
      "Best Accuracy is:- 0.8340807174887892 on random state 0\n",
      "Best Accuracy is:- 0.8340807174887892 on random state 0\n",
      "Best Accuracy is:- 0.8340807174887892 on random state 0\n",
      "Best Accuracy is:- 0.8340807174887892 on random state 0\n",
      "Best Accuracy is:- 0.8340807174887892 on random state 0\n",
      "Best Accuracy is:- 0.8340807174887892 on random state 0\n",
      "Best Accuracy is:- 0.8340807174887892 on random state 0\n",
      "Best Accuracy is:- 0.8340807174887892 on random state 0\n",
      "Best Accuracy is:- 0.8340807174887892 on random state 0\n",
      "Best Accuracy is:- 0.8340807174887892 on random state 0\n",
      "Best Accuracy is:- 0.8340807174887892 on random state 0\n",
      "Best Accuracy is:- 0.8340807174887892 on random state 0\n",
      "Best Accuracy is:- 0.8340807174887892 on random state 0\n",
      "Best Accuracy is:- 0.8340807174887892 on random state 0\n",
      "Best Accuracy is:- 0.8340807174887892 on random state 0\n",
      "Best Accuracy is:- 0.8340807174887892 on random state 0\n",
      "Best Accuracy is:- 0.8340807174887892 on random state 0\n",
      "Best Accuracy is:- 0.8340807174887892 on random state 0\n",
      "Best Accuracy is:- 0.8340807174887892 on random state 0\n",
      "Best Accuracy is:- 0.8340807174887892 on random state 0\n",
      "Best Accuracy is:- 0.8340807174887892 on random state 0\n",
      "Best Accuracy is:- 0.8340807174887892 on random state 0\n",
      "Best Accuracy is:- 0.8340807174887892 on random state 0\n",
      "Best Accuracy is:- 0.8340807174887892 on random state 0\n",
      "Best Accuracy is:- 0.8340807174887892 on random state 0\n",
      "Best Accuracy is:- 0.8340807174887892 on random state 0\n",
      "Best Accuracy is:- 0.8340807174887892 on random state 0\n",
      "Best Accuracy is:- 0.8340807174887892 on random state 0\n",
      "Best Accuracy is:- 0.8340807174887892 on random state 0\n",
      "Best Accuracy is:- 0.8340807174887892 on random state 0\n",
      "Best Accuracy is:- 0.8340807174887892 on random state 0\n",
      "Best Accuracy is:- 0.8340807174887892 on random state 0\n",
      "Best Accuracy is:- 0.8340807174887892 on random state 0\n",
      "Best Accuracy is:- 0.8340807174887892 on random state 0\n",
      "Best Accuracy is:- 0.8340807174887892 on random state 0\n",
      "Best Accuracy is:- 0.8340807174887892 on random state 0\n",
      "Best Accuracy is:- 0.8340807174887892 on random state 0\n",
      "Best Accuracy is:- 0.8340807174887892 on random state 0\n",
      "Best Accuracy is:- 0.8340807174887892 on random state 0\n",
      "Best Accuracy is:- 0.8340807174887892 on random state 0\n",
      "Best Accuracy is:- 0.8340807174887892 on random state 0\n",
      "Best Accuracy is:- 0.8340807174887892 on random state 0\n",
      "Best Accuracy is:- 0.8340807174887892 on random state 0\n",
      "Best Accuracy is:- 0.8340807174887892 on random state 0\n",
      "Best Accuracy is:- 0.8340807174887892 on random state 0\n",
      "Best Accuracy is:- 0.8340807174887892 on random state 0\n",
      "Best Accuracy is:- 0.8340807174887892 on random state 0\n",
      "Best Accuracy is:- 0.8340807174887892 on random state 0\n",
      "Best Accuracy is:- 0.8340807174887892 on random state 0\n",
      "Best Accuracy is:- 0.8340807174887892 on random state 0\n",
      "Best Accuracy is:- 0.8340807174887892 on random state 0\n",
      "Best Accuracy is:- 0.8340807174887892 on random state 0\n",
      "Best Accuracy is:- 0.8340807174887892 on random state 0\n",
      "Best Accuracy is:- 0.8340807174887892 on random state 0\n",
      "Best Accuracy is:- 0.8340807174887892 on random state 0\n",
      "Best Accuracy is:- 0.8340807174887892 on random state 0\n",
      "Best Accuracy is:- 0.8340807174887892 on random state 0\n",
      "Best Accuracy is:- 0.8340807174887892 on random state 0\n",
      "Best Accuracy is:- 0.8340807174887892 on random state 0\n",
      "Best Accuracy is:- 0.8340807174887892 on random state 0\n",
      "Best Accuracy is:- 0.8340807174887892 on random state 0\n",
      "Best Accuracy is:- 0.8340807174887892 on random state 0\n",
      "Best Accuracy is:- 0.8340807174887892 on random state 0\n",
      "Best Accuracy is:- 0.8340807174887892 on random state 0\n",
      "Best Accuracy is:- 0.8340807174887892 on random state 0\n",
      "Best Accuracy is:- 0.8340807174887892 on random state 0\n",
      "Best Accuracy is:- 0.8340807174887892 on random state 0\n",
      "Best Accuracy is:- 0.8340807174887892 on random state 0\n",
      "Best Accuracy is:- 0.8340807174887892 on random state 0\n",
      "Best Accuracy is:- 0.8340807174887892 on random state 0\n",
      "Best Accuracy is:- 0.8340807174887892 on random state 0\n",
      "Best Accuracy is:- 0.8340807174887892 on random state 0\n",
      "Best Accuracy is:- 0.8340807174887892 on random state 0\n",
      "Best Accuracy is:- 0.8340807174887892 on random state 0\n",
      "Best Accuracy is:- 0.8340807174887892 on random state 0\n",
      "Best Accuracy is:- 0.8340807174887892 on random state 0\n",
      "Best Accuracy is:- 0.8340807174887892 on random state 0\n",
      "Best Accuracy is:- 0.8340807174887892 on random state 0\n",
      "Best Accuracy is:- 0.8340807174887892 on random state 0\n",
      "Best Accuracy is:- 0.8340807174887892 on random state 0\n",
      "Best Accuracy is:- 0.8340807174887892 on random state 0\n",
      "Best Accuracy is:- 0.8340807174887892 on random state 0\n",
      "Best Accuracy is:- 0.8340807174887892 on random state 0\n",
      "Best Accuracy is:- 0.8340807174887892 on random state 0\n",
      "Best Accuracy is:- 0.8340807174887892 on random state 0\n",
      "Best Accuracy is:- 0.8340807174887892 on random state 0\n",
      "Best Accuracy is:- 0.8340807174887892 on random state 0\n",
      "Best Accuracy is:- 0.8340807174887892 on random state 0\n",
      "Best Accuracy is:- 0.8340807174887892 on random state 0\n",
      "Best Accuracy is:- 0.8340807174887892 on random state 0\n",
      "Best Accuracy is:- 0.8340807174887892 on random state 0\n",
      "Best Accuracy is:- 0.8340807174887892 on random state 0\n",
      "Best Accuracy is:- 0.8340807174887892 on random state 0\n",
      "Best Accuracy is:- 0.8340807174887892 on random state 0\n",
      "Best Accuracy is:- 0.8340807174887892 on random state 0\n",
      "Best Accuracy is:- 0.8340807174887892 on random state 0\n",
      "Best Accuracy is:- 0.8340807174887892 on random state 0\n",
      "Best Accuracy is:- 0.8340807174887892 on random state 0\n",
      "Best Accuracy is:- 0.8340807174887892 on random state 0\n",
      "Best Accuracy is:- 0.8340807174887892 on random state 0\n",
      "Best Accuracy is:- 0.8340807174887892 on random state 0\n",
      "Best Accuracy is:- 0.8340807174887892 on random state 0\n",
      "Best Accuracy is:- 0.8340807174887892 on random state 0\n",
      "Best Accuracy is:- 0.8340807174887892 on random state 0\n",
      "Best Accuracy is:- 0.8340807174887892 on random state 0\n",
      "Best Accuracy is:- 0.8340807174887892 on random state 0\n",
      "Best Accuracy is:- 0.8340807174887892 on random state 0\n",
      "Best Accuracy is:- 0.8340807174887892 on random state 0\n",
      "Best Accuracy is:- 0.8340807174887892 on random state 0\n",
      "Best Accuracy is:- 0.8340807174887892 on random state 0\n",
      "Best Accuracy is:- 0.8340807174887892 on random state 0\n",
      "Best Accuracy is:- 0.8340807174887892 on random state 0\n",
      "Best Accuracy is:- 0.8340807174887892 on random state 0\n",
      "Best Accuracy is:- 0.8340807174887892 on random state 0\n",
      "Best Accuracy is:- 0.8340807174887892 on random state 0\n",
      "Best Accuracy is:- 0.8340807174887892 on random state 0\n",
      "Best Accuracy is:- 0.8340807174887892 on random state 0\n",
      "Best Accuracy is:- 0.8340807174887892 on random state 0\n",
      "Best Accuracy is:- 0.8340807174887892 on random state 0\n",
      "Best Accuracy is:- 0.8340807174887892 on random state 0\n",
      "Best Accuracy is:- 0.8340807174887892 on random state 0\n",
      "Best Accuracy is:- 0.8340807174887892 on random state 0\n",
      "Best Accuracy is:- 0.8340807174887892 on random state 0\n",
      "Best Accuracy is:- 0.8340807174887892 on random state 0\n",
      "Best Accuracy is:- 0.8340807174887892 on random state 0\n",
      "Best Accuracy is:- 0.8340807174887892 on random state 0\n",
      "Best Accuracy is:- 0.8340807174887892 on random state 0\n",
      "Best Accuracy is:- 0.8340807174887892 on random state 0\n",
      "Best Accuracy is:- 0.8340807174887892 on random state 0\n",
      "Best Accuracy is:- 0.8340807174887892 on random state 0\n",
      "Best Accuracy is:- 0.8340807174887892 on random state 0\n",
      "Best Accuracy is:- 0.8340807174887892 on random state 0\n",
      "Best Accuracy is:- 0.8340807174887892 on random state 0\n",
      "Best Accuracy is:- 0.8340807174887892 on random state 0\n",
      "Best Accuracy is:- 0.8340807174887892 on random state 0\n",
      "Best Accuracy is:- 0.8340807174887892 on random state 0\n",
      "Best Accuracy is:- 0.8340807174887892 on random state 0\n",
      "Best Accuracy is:- 0.8340807174887892 on random state 0\n",
      "Best Accuracy is:- 0.8340807174887892 on random state 0\n",
      "Best Accuracy is:- 0.8340807174887892 on random state 0\n",
      "Best Accuracy is:- 0.8340807174887892 on random state 0\n",
      "Best Accuracy is:- 0.8340807174887892 on random state 0\n",
      "Best Accuracy is:- 0.8340807174887892 on random state 0\n",
      "Best Accuracy is:- 0.8340807174887892 on random state 0\n",
      "Best Accuracy is:- 0.8340807174887892 on random state 0\n",
      "Best Accuracy is:- 0.8340807174887892 on random state 0\n",
      "Best Accuracy is:- 0.8340807174887892 on random state 0\n",
      "Best Accuracy is:- 0.8340807174887892 on random state 0\n",
      "Best Accuracy is:- 0.8340807174887892 on random state 0\n",
      "Best Accuracy is:- 0.8340807174887892 on random state 0\n",
      "Best Accuracy is:- 0.8340807174887892 on random state 0\n",
      "Best Accuracy is:- 0.8340807174887892 on random state 0\n",
      "Best Accuracy is:- 0.8340807174887892 on random state 0\n",
      "Best Accuracy is:- 0.8340807174887892 on random state 0\n",
      "Best Accuracy is:- 0.8340807174887892 on random state 0\n",
      "Best Accuracy is:- 0.8340807174887892 on random state 0\n",
      "Best Accuracy is:- 0.8340807174887892 on random state 0\n",
      "Best Accuracy is:- 0.8340807174887892 on random state 0\n",
      "Best Accuracy is:- 0.8340807174887892 on random state 0\n",
      "Best Accuracy is:- 0.8340807174887892 on random state 0\n",
      "Best Accuracy is:- 0.8340807174887892 on random state 0\n",
      "Best Accuracy is:- 0.8340807174887892 on random state 0\n",
      "Best Accuracy is:- 0.8340807174887892 on random state 0\n",
      "Best Accuracy is:- 0.8340807174887892 on random state 0\n",
      "Best Accuracy is:- 0.8340807174887892 on random state 0\n",
      "Best Accuracy is:- 0.8340807174887892 on random state 0\n",
      "Best Accuracy is:- 0.8340807174887892 on random state 0\n",
      "Best Accuracy is:- 0.8340807174887892 on random state 0\n",
      "Best Accuracy is:- 0.8340807174887892 on random state 0\n",
      "Best Accuracy is:- 0.8340807174887892 on random state 0\n",
      "Best Accuracy is:- 0.8340807174887892 on random state 0\n",
      "Best Accuracy is:- 0.8340807174887892 on random state 0\n",
      "Best Accuracy is:- 0.8340807174887892 on random state 0\n",
      "Best Accuracy is:- 0.8340807174887892 on random state 0\n",
      "Best Accuracy is:- 0.8340807174887892 on random state 0\n",
      "Best Accuracy is:- 0.8340807174887892 on random state 0\n",
      "Best Accuracy is:- 0.8340807174887892 on random state 0\n",
      "Best Accuracy is:- 0.8340807174887892 on random state 0\n",
      "Best Accuracy is:- 0.8340807174887892 on random state 0\n",
      "Best Accuracy is:- 0.8340807174887892 on random state 0\n",
      "Best Accuracy is:- 0.8340807174887892 on random state 0\n",
      "Best Accuracy is:- 0.8340807174887892 on random state 0\n",
      "Best Accuracy is:- 0.8340807174887892 on random state 0\n",
      "Best Accuracy is:- 0.8340807174887892 on random state 0\n",
      "Best Accuracy is:- 0.8340807174887892 on random state 0\n",
      "Best Accuracy is:- 0.8340807174887892 on random state 0\n",
      "Best Accuracy is:- 0.8340807174887892 on random state 0\n",
      "Best Accuracy is:- 0.8340807174887892 on random state 0\n",
      "Best Accuracy is:- 0.8340807174887892 on random state 0\n",
      "Best Accuracy is:- 0.8340807174887892 on random state 0\n",
      "Best Accuracy is:- 0.8340807174887892 on random state 0\n",
      "Best Accuracy is:- 0.8340807174887892 on random state 0\n",
      "Best Accuracy is:- 0.8340807174887892 on random state 0\n",
      "Best Accuracy is:- 0.8340807174887892 on random state 0\n",
      "Best Accuracy is:- 0.8340807174887892 on random state 0\n"
     ]
    }
   ],
   "source": [
    "maxAccu=0\n",
    "minRs=0\n",
    "for i in range(0,1000):\n",
    "    X_train,X_test,Y_train,Y_test=train_test_split(X,Y,test_size=0.25,random_state=670)\n",
    "    lr.fit(X_train,Y_train)\n",
    "    predict=lr.predict(X_test)\n",
    "    acc=accuracy_score(Y_test,predict)\n",
    "    \n",
    "    if acc>maxAccu:\n",
    "        maxAccu=acc\n",
    "        maxRs=i\n",
    "    print(\"Best Accuracy is:-\",maxAccu,\"on random state\",maxRs)"
   ]
  },
  {
   "cell_type": "code",
   "execution_count": 594,
   "id": "9fe125f1",
   "metadata": {},
   "outputs": [
    {
     "name": "stdout",
     "output_type": "stream",
     "text": [
      "Accuracy 83.40807174887892\n",
      "              precision    recall  f1-score   support\n",
      "\n",
      "           0       0.85      0.90      0.87       143\n",
      "           1       0.80      0.71      0.75        80\n",
      "\n",
      "    accuracy                           0.83       223\n",
      "   macro avg       0.83      0.81      0.81       223\n",
      "weighted avg       0.83      0.83      0.83       223\n",
      "\n",
      "[[129  14]\n",
      " [ 23  57]]\n"
     ]
    }
   ],
   "source": [
    "from sklearn.metrics import confusion_matrix,classification_report\n",
    "X_train,X_test,Y_train,Y_test=train_test_split(X,Y,test_size=0.25,random_state=670)\n",
    "print(\"Accuracy\",accuracy_score(Y_test,predict)*100)\n",
    "print(classification_report(Y_test,predict))\n",
    "print(confusion_matrix(Y_test,predict))\n"
   ]
  },
  {
   "cell_type": "code",
   "execution_count": 595,
   "id": "74ef893a",
   "metadata": {},
   "outputs": [
    {
     "name": "stdout",
     "output_type": "stream",
     "text": [
      "Accuracy 83.40807174887892\n",
      "              precision    recall  f1-score   support\n",
      "\n",
      "           0       0.85      0.90      0.87       143\n",
      "           1       0.80      0.71      0.75        80\n",
      "\n",
      "    accuracy                           0.83       223\n",
      "   macro avg       0.83      0.81      0.81       223\n",
      "weighted avg       0.83      0.83      0.83       223\n",
      "\n",
      "[[129  14]\n",
      " [ 23  57]]\n"
     ]
    }
   ],
   "source": [
    "from sklearn.tree import DecisionTreeClassifier\n",
    "\n",
    "dtc=DecisionTreeClassifier()\n",
    "dtc.fit(X_test,Y_test)\n",
    "preddtc=dtc.predict(X_test)\n",
    "print(\"Accuracy\",accuracy_score(Y_test,predict)*100)\n",
    "print(classification_report(Y_test,predict))\n",
    "print(confusion_matrix(Y_test,predict))\n"
   ]
  },
  {
   "cell_type": "code",
   "execution_count": 597,
   "id": "f1e8c4fa",
   "metadata": {},
   "outputs": [
    {
     "name": "stdout",
     "output_type": "stream",
     "text": [
      "Accuracy 83.40807174887892\n",
      "              precision    recall  f1-score   support\n",
      "\n",
      "           0       0.85      0.90      0.87       143\n",
      "           1       0.80      0.71      0.75        80\n",
      "\n",
      "    accuracy                           0.83       223\n",
      "   macro avg       0.83      0.81      0.81       223\n",
      "weighted avg       0.83      0.83      0.83       223\n",
      "\n",
      "[[129  14]\n",
      " [ 23  57]]\n"
     ]
    }
   ],
   "source": [
    "from sklearn.ensemble import RandomForestClassifier\n",
    "\n",
    "rfc=RandomForestClassifier()\n",
    "rfc.fit(X_test,Y_test)\n",
    "predrfc=rfc.predict(X_test)\n",
    "print(\"Accuracy\",accuracy_score(Y_test,predict)*100)\n",
    "print(classification_report(Y_test,predict))\n",
    "print(confusion_matrix(Y_test,predict))\n"
   ]
  },
  {
   "cell_type": "code",
   "execution_count": 609,
   "id": "d203019c",
   "metadata": {},
   "outputs": [
    {
     "name": "stdout",
     "output_type": "stream",
     "text": [
      "Accuracy 69.05829596412556\n",
      "              precision    recall  f1-score   support\n",
      "\n",
      "           0       0.70      0.92      0.79       143\n",
      "           1       0.66      0.29      0.40        80\n",
      "\n",
      "    accuracy                           0.69       223\n",
      "   macro avg       0.68      0.60      0.60       223\n",
      "weighted avg       0.68      0.69      0.65       223\n",
      "\n",
      "[[131  12]\n",
      " [ 57  23]]\n"
     ]
    }
   ],
   "source": [
    "from sklearn.svm import SVC\n",
    "svc=SVC()\n",
    "svc.fit(X_train,Y_train)\n",
    "predsvc=svc.predict(X_test)\n",
    "print(\"Accuracy\",accuracy_score(Y_test,predsvc)*100)\n",
    "print(classification_report(Y_test,predsvc))\n",
    "print(confusion_matrix(Y_test,predsvc))\n"
   ]
  },
  {
   "cell_type": "code",
   "execution_count": 613,
   "id": "6db5dd16",
   "metadata": {},
   "outputs": [
    {
     "name": "stdout",
     "output_type": "stream",
     "text": [
      "Cv score of logistic Regression Model is:- 77.16879324573098\n"
     ]
    }
   ],
   "source": [
    "from sklearn.model_selection import cross_val_score\n",
    "scr=cross_val_score(lr,X,Y,cv=5)\n",
    "print(\"Cv score of logistic Regression Model is:-\",scr.mean()*100)"
   ]
  },
  {
   "cell_type": "code",
   "execution_count": 614,
   "id": "ed26c35d",
   "metadata": {},
   "outputs": [
    {
     "name": "stdout",
     "output_type": "stream",
     "text": [
      "Cv score of Decision Tree Classifier is:- 70.87475401510824\n"
     ]
    }
   ],
   "source": [
    "from sklearn.model_selection import cross_val_score\n",
    "scr=cross_val_score(dtc,X,Y,cv=5)\n",
    "print(\"Cv score of Decision Tree Classifier is:-\",scr.mean()*100)"
   ]
  },
  {
   "cell_type": "code",
   "execution_count": 615,
   "id": "a8b4943a",
   "metadata": {},
   "outputs": [
    {
     "name": "stdout",
     "output_type": "stream",
     "text": [
      "Cv score of Random Forest Classifier is:- 79.97968640893798\n"
     ]
    }
   ],
   "source": [
    "from sklearn.model_selection import cross_val_score\n",
    "scr=cross_val_score(rfc,X,Y,cv=5)\n",
    "print(\"Cv score of Random Forest Classifier is:-\",scr.mean()*100)"
   ]
  },
  {
   "cell_type": "code",
   "execution_count": 632,
   "id": "ed617af0",
   "metadata": {},
   "outputs": [
    {
     "data": {
      "text/plain": [
       "{'criterion': 'entropy', 'max_depth': 8, 'max_features': 'auto'}"
      ]
     },
     "execution_count": 632,
     "metadata": {},
     "output_type": "execute_result"
    }
   ],
   "source": [
    "from sklearn.model_selection import GridSearchCV\n",
    "parameters={'max_features':['auto','sqrt','log2'],\n",
    "     'max_depth':[4,5,6,7,8],\n",
    "           'criterion':['gini','entropy']}\n",
    "\n",
    "gcv=GridSearchCV(rfc,parameters,cv=5,scoring='accuracy')\n",
    "gcv.fit(X_train,Y_train)\n",
    "gcv.best_params_\n",
    "\n"
   ]
  },
  {
   "cell_type": "code",
   "execution_count": 636,
   "id": "fff36852",
   "metadata": {},
   "outputs": [
    {
     "data": {
      "text/plain": [
       "82.0627802690583"
      ]
     },
     "execution_count": 636,
     "metadata": {},
     "output_type": "execute_result"
    }
   ],
   "source": [
    "gcv_pred=gcv.best_estimator_.predict(X_test)\n",
    "accuracy_score(Y_test,gcv_pred)*100"
   ]
  },
  {
   "cell_type": "code",
   "execution_count": 638,
   "id": "d384ff6e",
   "metadata": {},
   "outputs": [
    {
     "data": {
      "image/png": "[encoded data removed]",
      "text/plain": [
       "<Figure size 432x288 with 1 Axes>"
      ]
     },
     "metadata": {
      "needs_background": "light"
     },
     "output_type": "display_data"
    }
   ],
   "source": [
    "from sklearn.metrics import plot_roc_curve\n",
    "plot_roc_curve(gcv.best_estimator_,X_test,Y_test)\n",
    "plt.title(\"ROC AUC Plot\")\n",
    "plt.show()"
   ]
  },
  {
   "cell_type": "code",
   "execution_count": 640,
   "id": "463918bb",
   "metadata": {},
   "outputs": [
    {
     "data": {
      "text/plain": [
       "['Titanic_Model']"
      ]
     },
     "execution_count": 640,
     "metadata": {},
     "output_type": "execute_result"
    }
   ],
   "source": [
    "import joblib\n",
    "joblib.dump(gcv.best_estimator_,\"Titanic_Model\")"
   ]
  },
  {
   "cell_type": "code",
   "execution_count": null,
   "id": "41c45be1",
   "metadata": {},
   "outputs": [],
   "source": []
  }
 ],
 "metadata": {
  "kernelspec": {
   "display_name": "Python 3 (ipykernel)",
   "language": "python",
   "name": "python3"
  },
  "language_info": {
   "codemirror_mode": {
    "name": "ipython",
    "version": 3
   },
   "file_extension": ".py",
   "mimetype": "text/x-python",
   "name": "python",
   "nbconvert_exporter": "python",
   "pygments_lexer": "ipython3",
   "version": "3.8.8"
  }
 },
 "nbformat": 4,
 "nbformat_minor": 5
}
